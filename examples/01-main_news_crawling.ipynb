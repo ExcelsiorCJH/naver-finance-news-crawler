{
 "cells": [
  {
   "cell_type": "markdown",
   "id": "3a05eb7c",
   "metadata": {},
   "source": [
    "# Naver Finance News Crawling"
   ]
  },
  {
   "cell_type": "markdown",
   "id": "1bab466f",
   "metadata": {},
   "source": [
    "## imports"
   ]
  },
  {
   "cell_type": "code",
   "execution_count": 1,
   "id": "092cd347",
   "metadata": {},
   "outputs": [],
   "source": [
    "%load_ext jupyter_black"
   ]
  },
  {
   "cell_type": "code",
   "execution_count": 2,
   "id": "96613b57",
   "metadata": {},
   "outputs": [],
   "source": [
    "import sys\n",
    "\n",
    "sys.path.append(\"..\")"
   ]
  },
  {
   "cell_type": "code",
   "execution_count": 3,
   "id": "82ee85eb",
   "metadata": {},
   "outputs": [],
   "source": [
    "from crawler import MainNewsCrawler"
   ]
  },
  {
   "cell_type": "markdown",
   "id": "4d6680b6",
   "metadata": {},
   "source": [
    "## Main News Crawler"
   ]
  },
  {
   "cell_type": "code",
   "execution_count": 7,
   "id": "0fb763f3",
   "metadata": {},
   "outputs": [],
   "source": [
    "start_date = \"2005-09-30\"\n",
    "end_date = \"2005-10-01\"\n",
    "stopwords = [\"무단\", \"배포\", \"재배포\", \"article_split\"]"
   ]
  },
  {
   "cell_type": "code",
   "execution_count": 13,
   "id": "f4d05b38",
   "metadata": {},
   "outputs": [],
   "source": [
    "crawler = MainNewsCrawler(\n",
    "    start_date=start_date,\n",
    "    end_date=end_date,\n",
    "    save_dir=\"data\",\n",
    "    stopwords=stopwords,\n",
    "    use_split_sentence=True,\n",
    ")"
   ]
  },
  {
   "cell_type": "code",
   "execution_count": 14,
   "id": "f50ccaf5",
   "metadata": {},
   "outputs": [
    {
     "data": {
      "application/vnd.jupyter.widget-view+json": {
       "model_id": "2c1e708f1f52498a9da34291f78f540e",
       "version_major": 2,
       "version_minor": 0
      },
      "text/plain": [
       "  0%|          | 0/2 [00:00<?, ?it/s]"
      ]
     },
     "metadata": {},
     "output_type": "display_data"
    },
    {
     "name": "stderr",
     "output_type": "stream",
     "text": [
      "WARNING:root:Oh! You have mecab in your environment. Kss will take this as a backend! :D\n",
      "\n"
     ]
    }
   ],
   "source": [
    "data = crawler.crawl_news()"
   ]
  },
  {
   "cell_type": "code",
   "execution_count": 17,
   "id": "2114a4bb",
   "metadata": {},
   "outputs": [
    {
     "data": {
      "text/plain": [
       "{'press': '매일경제',\n",
       " 'date': '2005-10-01',\n",
       " 'time': '09:23:00',\n",
       " 'title': '코스닥도 굴뚝株가 주도',\n",
       " 'link': 'https://finance.naver.com/news/news_read.naver?article_id=0000462374&office_id=009&mode=mainnews&type=&date=2005-10-01&page=1',\n",
       " 'text': '굴뚝주인 자동차부품주와 조선기자재주가 전방산업 호조를 재료삼아 눈부시게 급등 하면서 코스닥시장을 뒤흔들고 있다. 지난달 30일 증시에서 조선기자재주인 태광과 케이에스피가 52주 신고가를 경신했으며 이에 앞서 현진소재가 29일 신고가를 갈아 치웠다. 자동차부품주의 상승세도 눈에 띈다. 30일 코스닥시장의 평화정공과 유가증권시장 의 대원강업과 상신브레이크가 연중 신고가를 기록했다. 이에 앞서 에코플라스틱(2 9일) 성우하이텍(28일) 세원물산(27일) 오스템(22일) 등도 52주 최고가를 기록한 후 30일에는 숨고르기를 했다. 지난 1년간 자동차 부품업체 주가는 100% 이상 상승하며 완성차업체 상승률(32%)과 KOSPI 상승률(37%)을 크게 웃돌았다. 이경수 삼성증권 연구원은 10월 코스닥시장 주도주로 조선기자재주와 자동차부품주 를 지목하며 \"전방산업이 조선업과 자동차산업 호황으로 이들 종목의 실적 모멘텀 이 부각됐다\"고 설명했다. 자동차부품주는 완성차업체 생산 증가로 실적 개선이 점쳐진다. 경기침체 장기화로 정체됐던 내수판매가 서서히 회복되고 있으며 현대자동차 해외공장 생산능력 확충 으로 수출물량도 크게 증가했다. 임채구 교보증권 연구원은 \"특히 신차효과를 보는 부품업체와 차체 부품을 생산하 는 업체들의 실적개선이 돋보일 것\"이라며 \"다만 부품 직수출업체들은 환율과 원자 재가 영향으로 수익성이 부진할 수 있다\"고 지적했다. [이효정 기자] < Copyright ⓒ 매일경제. 무단전재 및 재배포 금지 >',\n",
       " 'cleaned_text': ['굴뚝주인 자동차부품주와 조선기자재주가 전방산업 호조를 재료삼아 눈부시게 급등 하면서 코스닥시장을 뒤흔들고 있다.',\n",
       "  '지난달 30일 증시에서 조선기자재주인 태광과 케이에스피가 52주 신고가를 경신했으며 이에 앞서 현진소재가 29일 신고가를 갈아 치웠다.',\n",
       "  '자동차부품주의 상승세도 눈에 띈다.',\n",
       "  '30일 코스닥시장의 평화정공과 유가증권시장 의 대원강업과 상신브레이크가 연중 신고가를 기록했다.',\n",
       "  '이에 앞서 에코플라스틱 성우하이텍 세원물산 오스템 등도 52주 최고가를 기록한 후 30일에는 숨고르기를 했다.',\n",
       "  '지난 1년간 자동차 부품업체 주가는 100% 이상 상승하며 완성차업체 상승률과  상승률을 크게 웃돌았다.',\n",
       "  '이경수 삼성증권 연구원은 10월 코스닥시장 주도주로 조선기자재주와 자동차부품주 를 지목하며 전방산업이 조선업과 자동차산업 호황으로 이들 종목의 실적 모멘텀 이 부각됐다고 설명했다.',\n",
       "  '자동차부품주는 완성차업체 생산 증가로 실적 개선이 점쳐진다.',\n",
       "  '경기침체 장기화로 정체됐던 내수판매가 서서히 회복되고 있으며 현대자동차 해외공장 생산능력 확충 으로 수출물량도 크게 증가했다.',\n",
       "  '임채구 교보증권 연구원은 특히 신차효과를 보는 부품업체와 차체 부품을 생산하 는 업체들의 실적개선이 돋보일 것이라며 다만 부품 직수출업체들은 환율과 원자 재가 영향으로 수익성이 부진할 수 있다고 지적했다.']}"
      ]
     },
     "execution_count": 17,
     "metadata": {},
     "output_type": "execute_result"
    }
   ],
   "source": [
    "data[0]"
   ]
  },
  {
   "cell_type": "code",
   "execution_count": 18,
   "id": "f737cbf0",
   "metadata": {},
   "outputs": [
    {
     "data": {
      "text/plain": [
       "{'press': '한국경제',\n",
       " 'date': '2005-09-30',\n",
       " 'time': '07:02:00',\n",
       " 'title': '기업이익 반영되는 추가적인 저평가 해소..대신',\n",
       " 'link': 'https://finance.naver.com/news/news_read.naver?article_id=0000838359&office_id=015&mode=mainnews&type=&date=2005-09-30&page=2',\n",
       " 'text': '대신증권은 4분기 증시에 대해 기업이익이 주가에 반영되는 추가적 저평가 해소 과정을 보일 것으로 전망했다. 30일 대신증권은 IMF 외환위기이후 주가자산배율(PBR)이 청산가치인 1배에도 미 치지 못할 만큼 극심한 저평가속 기업이익에 대한 주가 반영도 역시 이머징 마 켓 평균대비 형편없은 수준에 그쳤다고 지적했다. 그러나 연초이후 3분기 연속 상승세를 타면서 지난 2003년 3월 0.7배까지 하락 했던 PBR이 9월말 현재 1.4배로 높아져 절대적 저평가를 벗어난 것으로 평가. 다만 기업이익을 반영하는 주가수익배율(PER) 기준으로 9.1배를 기록해 2000년 이후 평균 PER 9.5배를 밑돌고 있다고 비교했다.아직도 이머징 마켓대비 23% 정 도 저평가. 대신은 \"따라서 4분기중에도 펀더멘탈 개선과 풍부한 수급이 든든히 유지되는 가운데 기업실적 개선이라는 지표가 더해져 1300P까지 상승할 것\"으로 기대했다 . 조정다운 조정이 없는 상승세를 보여 분기 초반 변동성이 확대될 수 있으나 투 자심리 과열의 진정을 통한 시장의 건전성 강화에 기여할 것으로 판단했다. 투자전략의 경우 내수 경기가 예상보다 빠른 회복세를 보이면서 콜금리 인상을 통한 통화정책의 변경 가능성이 높아지고 있다는 점에서 가치주보다 성장주에 보다 높은 비중을 두는 게 바람직하다고 추천했다.업종으로 내수와 금융의 지 배력 유지속 상대적 소외감이 컸던 IT,철강,산업재,디스플레이 등이 두각을 나 타낼 것으로 관측했다. 한경닷컴 박병우기자 parkbw@hankyung.com ⓒ 한경닷컴, 무단 전재 및 재배포 금지 <한국온라인신문협회의 디지털뉴스이용규칙에 따른 저작권을 행사합니다>',\n",
       " 'cleaned_text': ['대신증권은 4분기 증시에 대해 기업이익이 주가에 반영되는 추가적 저평가 해소 과정을 보일 것으로 전망했다.',\n",
       "  '30일 대신증권은  외환위기이후 주가자산배율이 청산가치인 1배에도 미 치지 못할 만큼 극심한 저평가속 기업이익에 대한 주가 반영도 역시 이머징 마 켓 평균대비 형편없은 수준에 그쳤다고 지적했다.',\n",
       "  '그러나 연초이후 3분기 연속 상승세를 타면서 지난 2003년 3월 0.7배까지 하락 했던 이 9월말 현재 1.4배로 높아져 절대적 저평가를 벗어난 것으로 평가.',\n",
       "  '다만 기업이익을 반영하는 주가수익배율 기준으로 9.1배를 기록해 2000년 이후 평균  9.5배를 밑돌고 있다고 비교했다.',\n",
       "  '아직도 이머징 마켓대비 23% 정 도 저평가.',\n",
       "  '대신은 따라서 4분기중에도 펀더멘탈 개선과 풍부한 수급이 든든히 유지되는 가운데 기업실적 개선이라는 지표가 더해져 1300까지 상승할 것으로 기대했다 .',\n",
       "  '조정다운 조정이 없는 상승세를 보여 분기 초반 변동성이 확대될 수 있으나 투 자심리 과열의 진정을 통한 시장의 건전성 강화에 기여할 것으로 판단했다.',\n",
       "  '투자전략의 경우 내수 경기가 예상보다 빠른 회복세를 보이면서 콜금리 인상을 통한 통화정책의 변경 가능성이 높아지고 있다는 점에서 가치주보다 성장주에 보다 높은 비중을 두는 게 바람직하다고 추천했다.',\n",
       "  '업종으로 내수와 금융의 지 배력 유지속 상대적 소외감이 컸던 철강산업재디스플레이 등이 두각을 나 타낼 것으로 관측했다.']}"
      ]
     },
     "execution_count": 18,
     "metadata": {},
     "output_type": "execute_result"
    }
   ],
   "source": [
    "data[-1]"
   ]
  },
  {
   "cell_type": "code",
   "execution_count": 8,
   "id": "47db1db4",
   "metadata": {},
   "outputs": [],
   "source": [
    "# text = \"\"\n",
    "# contents = []\n",
    "# summaries = []\n",
    "\n",
    "# for content in article.contents:\n",
    "#     # summary 부분 처리 - media_end_summary 클래스를 포함하는 경우\n",
    "#     if isinstance(content, bs4.element.Tag) and \"media_end_summary\" in str(content):\n",
    "#         summary_texts = [\n",
    "#             text for text in content.stripped_strings if isinstance(text, str)\n",
    "#         ]\n",
    "#         summaries.extend(summary_texts)\n",
    "#         continue  # summary는 text와 contents에 포함하지 않음\n",
    "\n",
    "#     # 일반 텍스트 처리\n",
    "#     elif isinstance(content, bs4.element.Tag):\n",
    "#         content_text = content.get_text(strip=True)\n",
    "#         if content_text:  # 빈 문자열이 아닌 경우만 추가\n",
    "#             text += content_text + \" \"  # 문자열에는 공백과 함께 추가\n",
    "#             contents.append(content_text)  # 리스트에는 개별 텍스트로 추가\n",
    "#     # NavigableString인 경우\n",
    "#     elif isinstance(content, NavigableString) and content.strip():\n",
    "#         stripped_text = content.strip()\n",
    "#         text += stripped_text + \" \"  # 문자열에는 공백과 함께 추가\n",
    "#         contents.append(stripped_text)  # 리스트에는 개별 텍스트로 추가\n",
    "\n",
    "# text = text.strip()  # 마지막 공백 제거\n",
    "# print(\"Text:\", text)\n",
    "# print(\"\\nContents:\", contents)\n",
    "# print(\"\\nSummaries:\", summaries)"
   ]
  },
  {
   "cell_type": "code",
   "execution_count": null,
   "id": "8a98da7e",
   "metadata": {},
   "outputs": [],
   "source": []
  }
 ],
 "metadata": {
  "interpreter": {
   "hash": "ca37adc465479a74c6a141ab03dbdf7641081253eef51a46dbf42999bc11eb1a"
  },
  "kernelspec": {
   "display_name": "Python 3",
   "language": "python",
   "name": "python3"
  },
  "language_info": {
   "codemirror_mode": {
    "name": "ipython",
    "version": 3
   },
   "file_extension": ".py",
   "mimetype": "text/x-python",
   "name": "python",
   "nbconvert_exporter": "python",
   "pygments_lexer": "ipython3",
   "version": "3.11.10"
  }
 },
 "nbformat": 4,
 "nbformat_minor": 5
}
