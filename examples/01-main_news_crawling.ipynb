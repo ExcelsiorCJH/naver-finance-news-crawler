{
 "cells": [
  {
   "cell_type": "markdown",
   "id": "3a05eb7c",
   "metadata": {},
   "source": [
    "# Naver Finance News Crawling"
   ]
  },
  {
   "cell_type": "markdown",
   "id": "1bab466f",
   "metadata": {},
   "source": [
    "## imports"
   ]
  },
  {
   "cell_type": "code",
   "execution_count": 1,
   "id": "092cd347",
   "metadata": {},
   "outputs": [],
   "source": [
    "%load_ext lab_black"
   ]
  },
  {
   "cell_type": "code",
   "execution_count": 2,
   "id": "96613b57",
   "metadata": {},
   "outputs": [],
   "source": [
    "import sys\n",
    "\n",
    "sys.path.append(\"..\")"
   ]
  },
  {
   "cell_type": "code",
   "execution_count": 3,
   "id": "82ee85eb",
   "metadata": {},
   "outputs": [],
   "source": [
    "from crawler import MainNewsCrawler"
   ]
  },
  {
   "cell_type": "markdown",
   "id": "4d6680b6",
   "metadata": {},
   "source": [
    "## Main News Crawler"
   ]
  },
  {
   "cell_type": "code",
   "execution_count": 4,
   "id": "0fb763f3",
   "metadata": {},
   "outputs": [],
   "source": [
    "start_date = \"2021-06-30\"\n",
    "end_date = \"2021-07-01\"\n",
    "stopwords = [\"무단\", \"배포\", \"재배포\", \"article_split\"]"
   ]
  },
  {
   "cell_type": "code",
   "execution_count": 5,
   "id": "f4d05b38",
   "metadata": {},
   "outputs": [],
   "source": [
    "crawler = MainNewsCrawler(\n",
    "    start_date=start_date, end_date=end_date, save_dir=\"data\", stopwords=stopwords\n",
    ")"
   ]
  },
  {
   "cell_type": "code",
   "execution_count": 6,
   "id": "73d4dfe8",
   "metadata": {},
   "outputs": [
    {
     "name": "stderr",
     "output_type": "stream",
     "text": [
      "Crawling 2021-06-30: 100%|██████████| 2/2 [00:22<00:00, 11.15s/it]\n"
     ]
    }
   ],
   "source": [
    "data = crawler.crawl_news()"
   ]
  },
  {
   "cell_type": "code",
   "execution_count": 7,
   "id": "573e20c3",
   "metadata": {},
   "outputs": [
    {
     "data": {
      "text/plain": [
       "{'press': '머니투데이',\n",
       " 'date': '2021-07-01',\n",
       " 'time': '11:19:33',\n",
       " 'title': '[Asia오전]코로나 재확산 경계감…닛케이 0.5%↓',\n",
       " 'link': 'https://finance.naver.com/news/news_read.nhn?article_id=0004609988&office_id=008&mode=mainnews&type=&date=2021-07-01&page=1',\n",
       " 'text': '\\n\\t\\t\\t\\t\\t\\t\\t 1일 아시아 증시가 하락세다. 코로나19 재확산 우려 등이 투심을 위축시키고 있는 것으로 풀이된다. 이날 오전 10시 50분 기준 일본 도쿄증시의 닛케이225지수는 전일대비 0.45% 떨어진 2만8662.96을 나타냈다. 일본 증시는 일본 내 코로나19 감염 확대에 대한 경계감이 매도세로 이어지는 모습이다.여기에  전날 뉴욕증시 기술주 약세가 이날 일본 증시 반도체 주를 끌어내리고 있다. 전날 도쿄도(都) 신규 확진자 수는 714명으로 지난달 26일 후 35일 만에 700명대를 기록했다. 일본 후생노동성이 전날 소집한 회의에서 전문가들은 도쿄도와 인근 사이타마현의 신규 감염자 수가 증가세로 돌아섰다고 분석하며 \"감염 재확산이 강하게 우려된다\"고 밝혔다. 수도권에 적용된 \\'만연방지 등 중점조치(중점조치)\\'를 예정대로 오는 11일 해제하기 어려울 것이라는 전망도 확산되고 있다. 도쿄도에 대한 중점조치 적용 기간이 연장될 경우 오는 23일 개막하는 도쿄 올림픽이 중점조치 하에서 열리게 된다. 이날 일본은행(BOJ)이 발표한 6월 단칸(전국기업 단기경제 관측조사)지수는 개선됐다. 대형 제조업 업황지수(DI)가 14로 3월 5에서 개선됐고, 비제조업 업황지수도 1로 지난 3월 조사 대비 2포인트 상승하며 5분기만에 \\'플러스\\'를 기록했다. DI는 체감경기가 좋다고 응답한 기업의 비율에서 나쁘다고 응답한 비율을 뺀 값으로, 이 지수가 높을 수록 체감 경기를 긍정적으로 전망한 기업이 더 많다는 의미다. 다만 단칸지수 개선이 이날 증시에 미치는 영향은 제한적이다. 제조업 업황 지수가 시장 전망(15)을 밑돈 영향 등으로 해석된다. 중국 증시도 약세다. 같은 시각(현지시간 오전 9시50분) 상하이종합지수는 전일에 비해 0.3% 밀린 3579.24를 기록했다. 이날 홍콩증시는 홍콩반환일을 맞아 휴장했다. article_split\\n',\n",
       " 'cleaned_text': ['1일 아시아 증시가 하락세다.',\n",
       "  '코로나19 재확산 우려 등이 투심을 위축시키고 있는 것으로 풀이된다.',\n",
       "  '이날 오전 10시 50분 기준 일본 도쿄증시의 닛케이225지수는 전일대비 0.45% 떨어진 2만8662.96을 나타냈다.',\n",
       "  '일본 증시는 일본 내 코로나19 감염 확대에 대한 경계감이 매도세로 이어지는 모습이다.',\n",
       "  '여기에 전날 뉴욕증시 기술주 약세가 이날 일본 증시 반도체 주를 끌어내리고 있다.',\n",
       "  '전날 도쿄도 신규 확진자 수는 714명으로 지난달 26일 후 35일 만에 700명대를 기록했다.',\n",
       "  '일본 후생노동성이 전날 소집한 회의에서 전문가들은 도쿄도와 인근 사이타마현의 신규 감염자 수가 증가세로 돌아섰다고 분석하며 감염 재확산이 강하게 우려된다고 밝혔다.',\n",
       "  '수도권에 적용된 만연방지 등 중점조치를 예정대로 오는 11일 해제하기 어려울 것이라는 전망도 확산되고 있다.',\n",
       "  '도쿄도에 대한 중점조치 적용 기간이 연장될 경우 오는 23일 개막하는 도쿄 올림픽이 중점조치 하에서 열리게 된다.',\n",
       "  '이날 일본은행이 발표한 6월 단칸지수는 개선됐다.',\n",
       "  '대형 제조업 업황지수가 14로 3월 5에서 개선됐고 비제조업 업황지수도 1로 지난 3월 조사 대비 2포인트 상승하며 5분기만에 플러스를 기록했다.',\n",
       "  '는 체감경기가 좋다고 응답한 기업의 비율에서 나쁘다고 응답한 비율을 뺀 값으로 이 지수가 높을 수록 체감 경기를 긍정적으로 전망한 기업이 더 많다는 의미다.',\n",
       "  '다만 단칸지수 개선이 이날 증시에 미치는 영향은 제한적이다.',\n",
       "  '제조업 업황 지수가 시장 전망을 밑돈 영향 등으로 해석된다.',\n",
       "  '중국 증시도 약세다.',\n",
       "  '같은 시각 상하이종합지수는 전일에 비해 0.3% 밀린 3579.24를 기록했다.',\n",
       "  '이날 홍콩증시는 홍콩반환일을 맞아 휴장했다.']}"
      ]
     },
     "execution_count": 7,
     "metadata": {},
     "output_type": "execute_result"
    }
   ],
   "source": [
    "data[0]"
   ]
  },
  {
   "cell_type": "code",
   "execution_count": 8,
   "id": "2b294d1b",
   "metadata": {},
   "outputs": [
    {
     "data": {
      "text/plain": [
       "{'press': '연합뉴스',\n",
       " 'date': '2021-06-30',\n",
       " 'time': '02:00:12',\n",
       " 'title': '[유럽증시] 경기회복 기대감에 상승',\n",
       " 'link': 'https://finance.naver.com/news/news_read.nhn?article_id=0012492807&office_id=001&mode=mainnews&type=&date=2021-06-30&page=1',\n",
       " 'text': '\\n    (런던=연합뉴스) 최윤정 특파원 = 29일(현지시간) 유럽 주요국 증시는 경기 회복 기대감에 반등했다.    프랑스 파리 증시의 CAC40 지수는 전 거래일 종가 대비 0.14% 오른 6,567.43으로, 영국 런던 증시의 FTSE 100 지수는 0.21% 상승한 7,087.55로 거래를 마쳤다.     범유럽 지수인 유로 Stoxx 50 지수는 0.43% 높은 4,107.51로, 독일 프랑크푸르트 증시의 DAX30 지수도 0.88% 오른 15,690.59로 마감했다.    백신 접종으로 몇몇 국가에서 규제가 완화되고 경제 활동이 재개되면서 6월 유로존 경제 심리가 21년 만에 최고를 찍었다.     로이터통신에 따르면 ING 애널리스트는 투자의견 메모에서 \"체감경기가 지금보다 좋았을 때는 2000년 5월에 닷컴 거품이 정점이었을 때다\"라고 말했다.    독일의 6월 물가 상승세도 다소 둔화하면서 우려를 덜었다.    merciel@yna.co.kr\\n',\n",
       " 'cleaned_text': ['최윤정 특파원  29일 유럽 주요국 증시는 경기 회복 기대감에 반등했다.',\n",
       "  '프랑스 파리 증시의 40 지수는 전 거래일 종가 대비 0.14% 오른 6567.43으로 영국 런던 증시의  100 지수는 0.21% 상승한 7087.55로 거래를 마쳤다.',\n",
       "  '범유럽 지수인 유로  50 지수는 0.43% 높은 4107.51로 독일 프랑크푸르트 증시의 30 지수도 0.88% 오른 15690.59로 마감했다.',\n",
       "  '백신 접종으로 몇몇 국가에서 규제가 완화되고 경제 활동이 재개되면서 6월 유로존 경제 심리가 21년 만에 최고를 찍었다.',\n",
       "  '로이터통신에 따르면  애널리스트는 투자의견 메모에서 체감경기가 지금보다 좋았을 때는 2000년 5월에 닷컴 거품이 정점이었을 때다라고 말했다.',\n",
       "  '독일의 6월 물가 상승세도 다소 둔화하면서 우려를 덜었다.']}"
      ]
     },
     "execution_count": 8,
     "metadata": {},
     "output_type": "execute_result"
    }
   ],
   "source": [
    "data[-1]"
   ]
  },
  {
   "cell_type": "code",
   "execution_count": null,
   "id": "8463e971",
   "metadata": {},
   "outputs": [],
   "source": []
  }
 ],
 "metadata": {
  "interpreter": {
   "hash": "ca37adc465479a74c6a141ab03dbdf7641081253eef51a46dbf42999bc11eb1a"
  },
  "kernelspec": {
   "display_name": "Python 3",
   "language": "python",
   "name": "python3"
  },
  "language_info": {
   "codemirror_mode": {
    "name": "ipython",
    "version": 3
   },
   "file_extension": ".py",
   "mimetype": "text/x-python",
   "name": "python",
   "nbconvert_exporter": "python",
   "pygments_lexer": "ipython3",
   "version": "3.8.5"
  }
 },
 "nbformat": 4,
 "nbformat_minor": 5
}
