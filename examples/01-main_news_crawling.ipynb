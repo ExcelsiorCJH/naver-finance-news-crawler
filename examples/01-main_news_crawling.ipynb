{
 "cells": [
  {
   "cell_type": "markdown",
   "id": "exact-bargain",
   "metadata": {},
   "source": [
    "# Naver Finance News Crawling"
   ]
  },
  {
   "cell_type": "markdown",
   "id": "hawaiian-agenda",
   "metadata": {},
   "source": [
    "## imports"
   ]
  },
  {
   "cell_type": "code",
   "execution_count": 1,
   "id": "faced-astronomy",
   "metadata": {},
   "outputs": [],
   "source": [
    "%load_ext lab_black"
   ]
  },
  {
   "cell_type": "code",
   "execution_count": 2,
   "id": "metallic-watch",
   "metadata": {},
   "outputs": [],
   "source": [
    "import sys\n",
    "\n",
    "sys.path.append(\"..\")"
   ]
  },
  {
   "cell_type": "code",
   "execution_count": 3,
   "id": "sexual-treat",
   "metadata": {},
   "outputs": [],
   "source": [
    "from crawler import MainNewsCrawler"
   ]
  },
  {
   "cell_type": "markdown",
   "id": "automated-assessment",
   "metadata": {},
   "source": [
    "## Main News Crawler"
   ]
  },
  {
   "cell_type": "code",
   "execution_count": 5,
   "id": "thermal-spotlight",
   "metadata": {},
   "outputs": [],
   "source": [
    "start_date = \"2021-04-30\"\n",
    "end_date = \"2021-05-03\"\n",
    "stopwords = [\"무단\", \"배포\", \"재배포\", \"article_split\"]"
   ]
  },
  {
   "cell_type": "code",
   "execution_count": 6,
   "id": "frequent-arlington",
   "metadata": {},
   "outputs": [],
   "source": [
    "crawler = MainNewsCrawler(\n",
    "    start_date=start_date, end_date=end_date, save_dir=None, stopwords=stopwords\n",
    ")"
   ]
  },
  {
   "cell_type": "code",
   "execution_count": 7,
   "id": "therapeutic-elizabeth",
   "metadata": {},
   "outputs": [
    {
     "name": "stderr",
     "output_type": "stream",
     "text": [
      "100%|████████████████████████████████████████████████████████████████████████████████████| 4/4 [00:34<00:00,  8.52s/it]\n"
     ]
    }
   ],
   "source": [
    "data = crawler.crawl_news()"
   ]
  },
  {
   "cell_type": "code",
   "execution_count": 8,
   "id": "pacific-pressing",
   "metadata": {},
   "outputs": [
    {
     "data": {
      "text/plain": [
       "{'press': '아시아경제',\n",
       " 'date': '2021-05-03',\n",
       " 'time': '17:48:41',\n",
       " 'title': '[유럽개장] 장초반 소폭 상승…獨 0.68% ↑',\n",
       " 'link': 'https://finance.naver.com/news/news_read.nhn?article_id=0004896709&office_id=277&mode=mainnews&type=&date=2021-05-03&page=1',\n",
       " 'text': '\\n\\t\\t\\t\\t\\t\\t\\t [아시아경제 금보령 기자] 유럽의 주요 증시가 장 초반 소폭 상승세를 나타냈다.3일 오후 5시44분(한국시간) 범유럽지수인 STOXX600 지수는 전장 대비 0.42% 오른 439.21을 기록했다. 독일 DAX 지수는 0.68% 상승한 1만5239.28, 프랑스 CAC 지수는 0.51% 오른 6301.55를 보였다.금보령 기자 gold@asiae.co.kr<ⓒ경제를 보는 눈, 세계를 보는 창 아시아경제 무단전재 배포금지>\\n',\n",
       " 'cleaned_text': '유럽의 주요 증시가 장 초반 소폭 상승세를 나타냈다.3일 오후 5시44분 범유럽지수인 STOXX600 지수는 전장 대비 0.42% 오른 439.21을 기록했다. 독일 DAX 지수는 0.68% 상승한 1만5239.28, 프랑스 CAC 지수는 0.51% 오른 6301.55를 보였다.'}"
      ]
     },
     "execution_count": 8,
     "metadata": {},
     "output_type": "execute_result"
    }
   ],
   "source": [
    "data[0]"
   ]
  },
  {
   "cell_type": "code",
   "execution_count": 9,
   "id": "lyric-profile",
   "metadata": {},
   "outputs": [
    {
     "data": {
      "text/plain": [
       "{'press': '연합뉴스',\n",
       " 'date': '2021-04-30',\n",
       " 'time': '01:52:40',\n",
       " 'title': '[유럽증시] 미국 경제지표 호조에도 하락 마감',\n",
       " 'link': 'https://finance.naver.com/news/news_read.nhn?article_id=0004916625&office_id=018&mode=mainnews&type=&date=2021-04-30&page=1',\n",
       " 'text': '\\n[이데일리 이윤화 기자] 미국 1분기 경제성장률이 18년 만에 최고치를 보였다. 미 경제의 70% 가까이를 차지하는 소비를 중심으로 경기 회복이 빨라지고 있다. 애플, 아마존, 페이스북 등 주요 기업들이 어닝서프라이즈를 기록, 스탠더드앤드푸어스(S&P)500지수가 또 다시 사상 최고치를 기록했다. 위험자산 선호 심리가 강해지고 있다. 30일 서울외국환중개에 따르면 간밤 뉴욕차액결제선물환(NDF) 시장에서 거래된 원·달러 1개월물은 1107.85원에 최종 호가됐다. 최근 1개월물 스와프포인트(+0.1원)를 고려하면 환율은 전 거래일 종가(1108.2원)보다 0.45원 가량 하락 개장할 것으로 보인다.미 국채 10년물 금리는 1.6% 초반대, 달러인덱스는 90포인트 중반대에서 등락하는 중이다. 28일(현지시간) 오후 7시께 10년물 국채 금리는 전일 대비 0.002%포인트 내린 1.642을 기록하고 있다. 달러화는 90포인트 중반대를 기록하고 있다. 달러인덱스는 뉴욕증시 증시 종가 수준 보다 0.004%포인트 오른 90.622를 기록하고 있다.미국의 경기 회복세가 빨라지고 있다. 29일(현지시간) 미국 상무부에 따르면 1분기 미국의 실질 국내총생산(GDP) 증가율 속보치는 전기 대비 연율 기준 6.4%로 나타났다. 이는 다우존스가 집계한 전문가 전망치(6.5%)와 비슷한 수치로, 18년 만의 최대 성장폭이다. 백신 보급에 속도를 내면서 1분기 미국 소비 역시 10.7% 급증했다. 억눌렸던 팬트업 소비에 상품 소비(23.6%↑)와 서비스 소비(4.6%)가 모두 늘었다. 고용시장 회복도 가속화하고 있다. 노동부에 따르면 지난주 미국의 신규 실업수당 청구 건수는 55만3000건으로 전주(56만6000건) 대비 1만3000건 감소해 팬데믹 이후 최소치를 기록했다. 간밤 뉴욕증시 역시 아마존 등 기업들의 어닝 서프라이즈에 힘입어 상승했다. 29일(현지시간) 미국 뉴욕증권거래소에서 다우존스 30 산업평균지수는 전거래일 대비 0.71% 오른 3만4060.36에 거래를 마쳤다. S&P 지수는 0.68% 상승한 4211.47에 마감해 신고점을 기록했다. 기술주 중심의 나스닥 지수는 0.22% 오른 1만4082.55를 기록했다. 반면 중소형주 위주의 러셀 2000 지수는 0.38% 내린 2295.46을 나타냈다. 국내 증시가 뉴욕 증시의 온기를 이어받아 나흘 만에 상승할 수 있을지 주목된다. 전일 코스피 지수는 외국인과 기관의 매도세에 7.4포인트 가량 하락한 3174.07에 장을 마감했다. 민경원 우리은행 연구원은 “국내증시에서 3거래일 동안 순매도를 기록했던 외국인 자금 유입도 재개될 공산이 크다”면서 “오늘 환율은 소폭 하락 출발 후 국내증시 외국인 동향에 주목하는 가운데 월말 수출업체의 네도(달러 매도), 역외 매도 주도하에 하락 압력이 우위를 보이겠으나 결제와 저가매수 유입에 막혀 1100원 중후반 중심 등락을 전망한다”고 말했다.이윤화 (akfdl34@edaily.co.kr)\\n',\n",
       " 'cleaned_text': '미국 1분기 경제성장률이 18년 만에 최고치를 보였다. 미 경제의 70% 가까이를 차지하는 소비를 중심으로 경기 회복이 빨라지고 있다. 애플, 아마존, 페이스북 등 주요 기업들이 어닝서프라이즈를 기록, 스탠더드앤드푸어스500지수가 또 다시 사상 최고치를 기록했다. 위험자산 선호 심리가 강해지고 있다. 30일 서울외국환중개에 따르면 간밤 뉴욕차액결제선물환 시장에서 거래된 원·달러 1개월물은 1107.85원에 최종 호가됐다. 최근 1개월물 스와프포인트를 고려하면 환율은 전 거래일 종가보다 0.45원 가량 하락 개장할 것으로 보인다.미 국채 10년물 금리는 1.6% 초반대, 달러인덱스는 90포인트 중반대에서 등락하는 중이다. 28일 오후 7시께 10년물 국채 금리는 전일 대비 0.002%포인트 내린 1.642을 기록하고 있다. 달러화는 90포인트 중반대를 기록하고 있다. 달러인덱스는 뉴욕증시 증시 종가 수준 보다 0.004%포인트 오른 90.622를 기록하고 있다.미국의 경기 회복세가 빨라지고 있다. 29일 미국 상무부에 따르면 1분기 미국의 실질 국내총생산 증가율 속보치는 전기 대비 연율 기준 6.4%로 나타났다. 이는 다우존스가 집계한 전문가 전망치와 비슷한 수치로, 18년 만의 최대 성장폭이다. 백신 보급에 속도를 내면서 1분기 미국 소비 역시 10.7% 급증했다. 억눌렸던 팬트업 소비에 상품 소비와 서비스 소비가 모두 늘었다. 고용시장 회복도 가속화하고 있다. 노동부에 따르면 지난주 미국의 신규 실업수당 청구 건수는 55만3000건으로 전주 대비 1만3000건 감소해 팬데믹 이후 최소치를 기록했다. 간밤 뉴욕증시 역시 아마존 등 기업들의 어닝 서프라이즈에 힘입어 상승했다. 29일 미국 뉴욕증권거래소에서 다우존스 30 산업평균지수는 전거래일 대비 0.71% 오른 3만4060.36에 거래를 마쳤다. S&P 지수는 0.68% 상승한 4211.47에 마감해 신고점을 기록했다. 기술주 중심의 나스닥 지수는 0.22% 오른 1만4082.55를 기록했다. 반면 중소형주 위주의 러셀 2000 지수는 0.38% 내린 2295.46을 나타냈다. 국내 증시가 뉴욕 증시의 온기를 이어받아 나흘 만에 상승할 수 있을지 주목된다. 전일 코스피 지수는 외국인과 기관의 매도세에 7.4포인트 가량 하락한 3174.07에 장을 마감했다. 민경원 우리은행 연구원은 국내증시에서 3거래일 동안 순매도를 기록했던 외국인 자금 유입도 재개될 공산이 크다면서 오늘 환율은 소폭 하락 출발 후 국내증시 외국인 동향에 주목하는 가운데 월말 수출업체의 네도, 역외 매도 주도하에 하락 압력이 우위를 보이겠으나 결제와 저가매수 유입에 막혀 1100원 중후반 중심 등락을 전망한다고 말했다.이윤화'}"
      ]
     },
     "execution_count": 9,
     "metadata": {},
     "output_type": "execute_result"
    }
   ],
   "source": [
    "data[-1]"
   ]
  },
  {
   "cell_type": "code",
   "execution_count": null,
   "id": "offensive-evaluation",
   "metadata": {},
   "outputs": [],
   "source": []
  }
 ],
 "metadata": {
  "kernelspec": {
   "display_name": "PyTorch",
   "language": "python",
   "name": "pytorch"
  },
  "language_info": {
   "codemirror_mode": {
    "name": "ipython",
    "version": 3
   },
   "file_extension": ".py",
   "mimetype": "text/x-python",
   "name": "python",
   "nbconvert_exporter": "python",
   "pygments_lexer": "ipython3",
   "version": "3.7.10"
  }
 },
 "nbformat": 4,
 "nbformat_minor": 5
}
