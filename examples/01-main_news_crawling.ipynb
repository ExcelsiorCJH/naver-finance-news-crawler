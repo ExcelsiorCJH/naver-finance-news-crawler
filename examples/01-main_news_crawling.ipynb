{
 "cells": [
  {
   "cell_type": "markdown",
   "id": "3a05eb7c",
   "metadata": {},
   "source": [
    "# Naver Finance News Crawling"
   ]
  },
  {
   "cell_type": "markdown",
   "id": "1bab466f",
   "metadata": {},
   "source": [
    "## imports"
   ]
  },
  {
   "cell_type": "code",
   "execution_count": 1,
   "id": "092cd347",
   "metadata": {},
   "outputs": [
    {
     "data": {
      "text/html": [
       "\n",
       "                <script type=\"application/javascript\" id=\"jupyter_black\">\n",
       "                (function() {\n",
       "                    if (window.IPython === undefined) {\n",
       "                        return\n",
       "                    }\n",
       "                    var msg = \"WARNING: it looks like you might have loaded \" +\n",
       "                        \"jupyter_black in a non-lab notebook with \" +\n",
       "                        \"`is_lab=True`. Please double check, and if \" +\n",
       "                        \"loading with `%load_ext` please review the README!\"\n",
       "                    console.log(msg)\n",
       "                    alert(msg)\n",
       "                })()\n",
       "                </script>\n",
       "                "
      ],
      "text/plain": [
       "<IPython.core.display.HTML object>"
      ]
     },
     "metadata": {},
     "output_type": "display_data"
    }
   ],
   "source": [
    "%load_ext jupyter_black"
   ]
  },
  {
   "cell_type": "code",
   "execution_count": 2,
   "id": "96613b57",
   "metadata": {},
   "outputs": [],
   "source": [
    "import sys\n",
    "\n",
    "sys.path.append(\"..\")"
   ]
  },
  {
   "cell_type": "code",
   "execution_count": 3,
   "id": "82ee85eb",
   "metadata": {},
   "outputs": [],
   "source": [
    "from crawler import MainNewsCrawler"
   ]
  },
  {
   "cell_type": "markdown",
   "id": "4d6680b6",
   "metadata": {},
   "source": [
    "## Main News Crawler"
   ]
  },
  {
   "cell_type": "code",
   "execution_count": 13,
   "id": "0fb763f3",
   "metadata": {},
   "outputs": [],
   "source": [
    "start_date = \"2005-09-30\"\n",
    "end_date = \"2010-12-29\"\n",
    "stopwords = [\"무단\", \"배포\", \"재배포\", \"article_split\"]"
   ]
  },
  {
   "cell_type": "code",
   "execution_count": 14,
   "id": "f4d05b38",
   "metadata": {},
   "outputs": [],
   "source": [
    "crawler = MainNewsCrawler(\n",
    "    start_date=start_date,\n",
    "    end_date=end_date,\n",
    "    save_dir=\"../data\",\n",
    "    stopwords=stopwords,\n",
    "    use_split_sentence=True,\n",
    ")"
   ]
  },
  {
   "cell_type": "code",
   "execution_count": 15,
   "id": "f50ccaf5",
   "metadata": {},
   "outputs": [
    {
     "data": {
      "application/vnd.jupyter.widget-view+json": {
       "model_id": "354d10bfb1434b088a6d3de98c3e8d23",
       "version_major": 2,
       "version_minor": 0
      },
      "text/plain": [
       "  0%|          | 0/1917 [00:00<?, ?it/s]"
      ]
     },
     "metadata": {},
     "output_type": "display_data"
    }
   ],
   "source": [
    "data = crawler.crawl_news()"
   ]
  },
  {
   "cell_type": "code",
   "execution_count": 10,
   "id": "cf2ecf45",
   "metadata": {},
   "outputs": [
    {
     "data": {
      "text/plain": [
       "82"
      ]
     },
     "execution_count": 10,
     "metadata": {},
     "output_type": "execute_result"
    }
   ],
   "source": [
    "len(data)"
   ]
  },
  {
   "cell_type": "code",
   "execution_count": 11,
   "id": "2114a4bb",
   "metadata": {},
   "outputs": [
    {
     "data": {
      "text/plain": [
       "{'press': '서울경제',\n",
       " 'date': '2010-12-31',\n",
       " 'time': '10:21:01',\n",
       " 'title': '2011년 최고 유망주는 삼성전자',\n",
       " 'link': 'https://finance.naver.com/news/news_read.naver?article_id=0002121917&office_id=011&mode=mainnews&type=&date=2010-12-31&page=1',\n",
       " 'text': '10개 증권사 추천 종목 살펴보니… 현대제철은 6곳서 추천 2위 현대重·LGD·기아차도 꼽혀 국내 대다수 증권사들이 새해 투자 유망주로 삼성전자를 뽑았다. 31일 서울경제신문이 국내 증권사 10곳을 대상으로 2011년 투자 유망주를 조사한 결과 삼성전자가 9개 증권사로부터 추천을 받아 1위에 올랐다. 현대제철은 6곳의 추천을 받았고 SK에너지ㆍLG디스플레이ㆍKB금융ㆍ현대중공업ㆍ엔씨소프트ㆍ기아차는 5개 증권사가 유망주로 꼽았다. 또 KTㆍ현대차ㆍ삼성물산ㆍ롯데쇼핑도 4개 증권사가 최선호주로 추천했다. 코스닥 종목에서는 서울반도체와 CJ오쇼핑이 각각 2개 증권사로부터 러브콜을 받았다. 우리투자증권은 삼성전자에 대해 \"2010년 4ㆍ4분기를 바닥으로 반도체 업황이 턴어라운드할 것\"이라며 \"스마트폰과 태블릿PC 보급이 확대되면서 내년 모바일 사업부도 호조를 보일 것\"이라고 전망했다. 대신증권은 현대제철에 대해 \"2010년 4ㆍ4분기부터 봉형강류 수익성이 개선되고 올해부터 제2고로가 본격 가동돼 외형은 물론 이익 역시 지속적으로 증가할 것\"이라고 분석했다. 증권사들로부터 복수 추천을 받은 종목들은 실적이 바닥을 찍고 회복국면에 있거나 새로운 성장 모멘텀을 확보했다는 공통점을 지니고 있다. 금융주의 대표격인 KB금융은 부동산 프로젝트파이낸싱(PF) 충당금이 급감하고 희망퇴직 실시로 인건비가 줄어 실적이 턴어라운드할 것으로 전망됐다. 엔씨소프트는 신작 게임 \\'블레이드 앤 소울\\'이 주가상승을 이끌 것으로 분석됐다. 서울반도체의 경우 올해부터 TV와 조명 부문 발광다이오드(LED) 성장이 가속화될 것으로 전망됐다. 임진혁기자 liberal@sed.co.kr 한국아이닷컴 인기기사 ㆍ총알·세균 튕겨내는 \\'최첨단 전투복\\'ㆍ\\'옵티머스2X·갤럭시S2\\' 스마트폰 돌풍 한번 더!ㆍ\\'성상납\\' 파문 女스타 이번엔 파격 사진을…ㆍ\\'올해의 관심인물\\' 9위에 김정은… 1위는?ㆍ\\'세계 최강\\' 한국건설, 엄청나게 벌었다ㆍ\\'IT 강국\\' 日도 깜짝 놀란 삼성 갤럭시탭ㆍ호시탐탐 남한 노리는 北, 이런 무기까지…ㆍ뇌졸증 김정일, 하루 아침에 멀쩡?ㆍ\\'IT 강국\\' 日도 깜짝 놀란 삼성 갤럭시탭ㆍ헉! 공무원이 나랏돈 빼돌려 마약·외제차를… ▶[알파클럽] 시장을 주도할 업종 및 유망종목 투자설명회 참가 접수! [ⓒ 인터넷한국일보(www.hankooki.com), 무단 전재 및 재배포 금지]',\n",
       " 'cleaned_text': ['10개 증권사 추천 종목 살펴보니 현대제철은 6곳서 추천 2위 현대기아차도 꼽혀 국내 대다수 증권사들이 새해 투자 유망주로 삼성전자를 뽑았다.',\n",
       "  '31일 서울경제신문이 국내 증권사 10곳을 대상으로 2011년 투자 유망주를 조사한 결과 삼성전자가 9개 증권사로부터 추천을 받아 1위에 올랐다.',\n",
       "  '현대제철은 6곳의 추천을 받았고 에너지',\n",
       "  '디스플레이금융현대중공업엔씨소프트기아차는 5개 증권사가 유망주로 꼽았다.',\n",
       "  '또 현대차삼성물산롯데쇼핑도 4개 증권사가 최선호주로 추천했다.',\n",
       "  '코스닥 종목에서는 서울반도체와 오쇼핑이 각각 2개 증권사로부터 러브콜을 받았다.',\n",
       "  '우리투자증권은 삼성전자에 대해 2010년 44분기를 바닥으로 반도체 업황이 턴어라운드할 것이라며 스마트폰과 태블릿 보급이 확대되면서 내년 모바일 사업부도 호조를 보일 것이라고 전망했다.',\n",
       "  '대신증권은 현대제철에 대해 2010년 44분기부터 봉형강류 수익성이 개선되고 올해부터 제2고로가 본격 가동돼 외형은 물론 이익 역시 지속적으로 증가할 것이라고 분석했다.',\n",
       "  '증권사들로부터 복수 추천을 받은 종목들은 실적이 바닥을 찍고 회복국면에 있거나 새로운 성장 모멘텀을 확보했다는 공통점을 지니고 있다.',\n",
       "  '금융주의 대표격인 금융은 부동산 프로젝트파이낸싱 충당금이 급감하고 희망퇴직 실시로 인건비가 줄어 실적이 턴어라운드할 것으로 전망됐다.',\n",
       "  '엔씨소프트는 신작 게임 블레이드 앤 소울이 주가상승을 이끌 것으로 분석됐다.',\n",
       "  '서울반도체의 경우 올해부터 와 조명 부문 발광다이오드 성장이 가속화될 것으로 전망됐다.',\n",
       "  '임진혁기자  한국아이닷컴 인기기사 총알세균 튕겨내는 최첨단 전투복옵티머스2갤럭시2 스마트폰 돌풍 한번 더!성상납 파문 스타 이번엔 파격 사진을올해의 관심인물 9위에 김정은 1위는세계 최강 한국건설 엄청나게 벌었다',\n",
       "  '강국 도 깜짝 놀란 삼성 갤럭시탭호시탐탐 남한 노리는  이런 무기까지뇌졸증 김정일 하루 아침에 멀쩡 강국 도 깜짝 놀란 삼성 갤럭시탭헉!',\n",
       "  '공무원이 나랏돈 빼돌려 마약외제차를  시장을 주도할 업종 및 유망종목 투자설명회 참가 접수!']}"
      ]
     },
     "execution_count": 11,
     "metadata": {},
     "output_type": "execute_result"
    }
   ],
   "source": [
    "data[0]"
   ]
  },
  {
   "cell_type": "code",
   "execution_count": 12,
   "id": "f737cbf0",
   "metadata": {},
   "outputs": [
    {
     "data": {
      "text/plain": [
       "{'press': '연합뉴스',\n",
       " 'date': '2010-12-30',\n",
       " 'time': '02:21:01',\n",
       " 'title': '[유럽증시] 새해 회복 기대감에 獨.佛 상승',\n",
       " 'link': 'https://finance.naver.com/news/news_read.naver?article_id=0004843404&office_id=001&mode=mainnews&type=&date=2010-12-30&page=2',\n",
       " 'text': '(제네바=연합뉴스) 맹찬형 특파원 = 유럽 증권시장은 29일 새해 경기회복에 대한 기대감으로 영국 런던 증시를 제외하고 대부분 상승세로 마감했다. 프랑스 파리 증시의 CAC 40 지수는 전일 대비 0.83% 상승한 3,890.65로 거래를 마쳤고, 독일 프랑크푸르트 증시의 DAX 30 지수는 0.34% 오른 6,995.47로 마무리했다. 이날 독일과 프랑스 증시의 상승은 2011년 세계 경제의 회복세가 빨라질 것이라는 기대감이 작용했기 때문이라고 증권 전문가들은 풀이했다. 다만 연말연시에는 전통적으로 주식 거래량이 감소하는 시기적 특성에 따라 전체 거래 규모는 크지 않았다. 범유럽 지수인 스톡스 유럽 600 지수도 런던 시간으로 이날 오후 4시30분 현재 0.3% 상승한 280.63을 기록해 2008년 9월 이후 최고치에 근접했다. 반면 영국 런던 증시의 FTSE 100 지수는 0.21% 떨어진 5,996.96으로 마감했다. 런던 증시는 지난 주말인 24일 2008년 6월 이후 처음으로 심리적 문턱인 6,000선을 넘어섰으나, 은행주 등의 부진으로 이내 다시 내려앉았다. 런던 증시에서 로이즈뱅킹그룹의 주가가 1.7% 하락하는 등 은행주의 하락이 두드러졌고, 리오틴토의 주식 역시 0.5% 떨어지는 등 광산주도 약세를 보였다. mangels@yna.co.kr <뉴스의 새 시대, 연합뉴스 Live> <모바일 애플리케이션> <포토 매거진> <저작권자(c)연합뉴스. 무단전재-재배포금지.>',\n",
       " 'cleaned_text': ['맹찬형 특파원  유럽 증권시장은 29일 새해 경기회복에 대한 기대감으로 영국 런던 증시를 제외하고 대부분 상승세로 마감했다.',\n",
       "  '프랑스 파리 증시의  40 지수는 전일 대비 0.83% 상승한 3890.65로 거래를 마쳤고 독일 프랑크푸르트 증시의  30 지수는 0.34% 오른 6995.47로 마무리했다.',\n",
       "  '이날 독일과 프랑스 증시의 상승은 2011년 세계 경제의 회복세가 빨라질 것이라는 기대감이 작용했기 때문이라고 증권 전문가들은 풀이했다.',\n",
       "  '다만 연말연시에는 전통적으로 주식 거래량이 감소하는 시기적 특성에 따라 전체 거래 규모는 크지 않았다.',\n",
       "  '범유럽 지수인 스톡스 유럽 600 지수도 런던 시간으로 이날 오후 4시30분 현재 0.3% 상승한 280.63을 기록해 2008년 9월 이후 최고치에 근접했다.',\n",
       "  '반면 영국 런던 증시의  100 지수는 0.21% 떨어진 5996.96으로 마감했다.',\n",
       "  '런던 증시는 지난 주말인 24일 2008년 6월 이후 처음으로 심리적 문턱인 6000선을 넘어섰으나 은행주 등의 부진으로 이내 다시 내려앉았다.',\n",
       "  '런던 증시에서 로이즈뱅킹그룹의 주가가 1.7% 하락하는 등 은행주의 하락이 두드러졌고 리오틴토의 주식 역시 0.5% 떨어지는 등 광산주도 약세를 보였다.']}"
      ]
     },
     "execution_count": 12,
     "metadata": {},
     "output_type": "execute_result"
    }
   ],
   "source": [
    "data[-1]"
   ]
  },
  {
   "cell_type": "code",
   "execution_count": 8,
   "id": "47db1db4",
   "metadata": {},
   "outputs": [],
   "source": [
    "# text = \"\"\n",
    "# contents = []\n",
    "# summaries = []\n",
    "\n",
    "# for content in article.contents:\n",
    "#     # summary 부분 처리 - media_end_summary 클래스를 포함하는 경우\n",
    "#     if isinstance(content, bs4.element.Tag) and \"media_end_summary\" in str(content):\n",
    "#         summary_texts = [\n",
    "#             text for text in content.stripped_strings if isinstance(text, str)\n",
    "#         ]\n",
    "#         summaries.extend(summary_texts)\n",
    "#         continue  # summary는 text와 contents에 포함하지 않음\n",
    "\n",
    "#     # 일반 텍스트 처리\n",
    "#     elif isinstance(content, bs4.element.Tag):\n",
    "#         content_text = content.get_text(strip=True)\n",
    "#         if content_text:  # 빈 문자열이 아닌 경우만 추가\n",
    "#             text += content_text + \" \"  # 문자열에는 공백과 함께 추가\n",
    "#             contents.append(content_text)  # 리스트에는 개별 텍스트로 추가\n",
    "#     # NavigableString인 경우\n",
    "#     elif isinstance(content, NavigableString) and content.strip():\n",
    "#         stripped_text = content.strip()\n",
    "#         text += stripped_text + \" \"  # 문자열에는 공백과 함께 추가\n",
    "#         contents.append(stripped_text)  # 리스트에는 개별 텍스트로 추가\n",
    "\n",
    "# text = text.strip()  # 마지막 공백 제거\n",
    "# print(\"Text:\", text)\n",
    "# print(\"\\nContents:\", contents)\n",
    "# print(\"\\nSummaries:\", summaries)"
   ]
  },
  {
   "cell_type": "code",
   "execution_count": null,
   "id": "8a98da7e",
   "metadata": {},
   "outputs": [],
   "source": []
  }
 ],
 "metadata": {
  "interpreter": {
   "hash": "ca37adc465479a74c6a141ab03dbdf7641081253eef51a46dbf42999bc11eb1a"
  },
  "kernelspec": {
   "display_name": "Python 3",
   "language": "python",
   "name": "python3"
  },
  "language_info": {
   "codemirror_mode": {
    "name": "ipython",
    "version": 3
   },
   "file_extension": ".py",
   "mimetype": "text/x-python",
   "name": "python",
   "nbconvert_exporter": "python",
   "pygments_lexer": "ipython3",
   "version": "3.11.9"
  }
 },
 "nbformat": 4,
 "nbformat_minor": 5
}
