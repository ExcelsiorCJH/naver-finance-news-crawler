{
 "cells": [
  {
   "cell_type": "markdown",
   "id": "3a05eb7c",
   "metadata": {},
   "source": [
    "# Insert DB after Crawling V01"
   ]
  },
  {
   "cell_type": "markdown",
   "id": "1bab466f",
   "metadata": {},
   "source": [
    "## imports"
   ]
  },
  {
   "cell_type": "code",
   "execution_count": 1,
   "id": "092cd347",
   "metadata": {},
   "outputs": [],
   "source": [
    "%load_ext lab_black"
   ]
  },
  {
   "cell_type": "code",
   "execution_count": 2,
   "id": "96613b57",
   "metadata": {},
   "outputs": [],
   "source": [
    "import sys\n",
    "\n",
    "sys.path.append(\"..\")"
   ]
  },
  {
   "cell_type": "code",
   "execution_count": 3,
   "id": "82ee85eb",
   "metadata": {},
   "outputs": [],
   "source": [
    "import pymysql\n",
    "import pandas as pd\n",
    "\n",
    "from sqlalchemy import create_engine\n",
    "from crawler import QueryNewsCrawler"
   ]
  },
  {
   "cell_type": "markdown",
   "id": "4d6680b6",
   "metadata": {},
   "source": [
    "## Query News Crawler"
   ]
  },
  {
   "cell_type": "code",
   "execution_count": 4,
   "id": "8463e971",
   "metadata": {},
   "outputs": [],
   "source": [
    "crawler = QueryNewsCrawler()"
   ]
  },
  {
   "cell_type": "code",
   "execution_count": 5,
   "id": "75b2bf93",
   "metadata": {},
   "outputs": [
    {
     "name": "stderr",
     "output_type": "stream",
     "text": [
      "100%|██████████| 1/1 [00:12<00:00, 12.93s/it]\n"
     ]
    }
   ],
   "source": [
    "query = \"P2E 게임\"\n",
    "count = 10\n",
    "news_data = crawler.crawl_news_by_query(query=query, count=count)"
   ]
  },
  {
   "cell_type": "code",
   "execution_count": 6,
   "id": "e444a66a",
   "metadata": {},
   "outputs": [
    {
     "data": {
      "text/plain": [
       "{'language': 'ko',\n",
       " 'url': 'https://www.xportsnews.com/article/1552987',\n",
       " 'publishdate': datetime.datetime(2022, 3, 25, 17, 5, 56, tzinfo=tzoffset(None, 32400)),\n",
       " 'press': '엑스포츠뉴스',\n",
       " 'title': '스톰게임즈, 블록체인 기반 P2E 게임 ‘FourGodsOnWEMIX’ 티저 공개…상반기 출시 예정',\n",
       " 'shortcontent': '25일 스톰게임즈(대표 정만수)가 블록체인 기반 P2E 게임 ‘FourGodsOnWEMIX’의 티저 사이트와 영상을 최초 공개했다고 밝혔다. ‘FourGodsOnWEMIX’는 동양의 중세시대를 배경으로 광활한 스케일의 오리엔탈 판타지...',\n",
       " 'content': '(엑스포츠뉴스 최지영기자) 스톰게임즈의 새로운 기대작 ‘FourGodsOnWEMIX’의 티저가 올라왔다.25일 스톰게임즈(대표 정만수)가 블록체인 기반 P2E 게임 ‘FourGodsOnWEMIX’의 티저 사이트와 영상을 최초 공개했다고 밝혔다.‘FourGodsOnWEMIX’는 동양의 중세시대를 배경으로 광활한 스케일의 오리엔탈 판타지 세계를 구현한 게임으로 올해 글로벌 서비스를 목표로 앞으로 티저 사이트를 통해 게임정보 및 영상 등을 순차적으로 공개해 나갈 계획이다.티저 사이트와 함께 공개된 약 1분 10초 분량의 티저 영상에서는 악과 맞서는 청룡 캐릭터가 등장하는데 캐릭터의 화려한 스킬 효과와 전투 장면이 3D영상으로 구현돼 게임의 세계관을 확인할 수 있다.또한, ‘FourGodsOnWEMIX’’는 블록체인 기반 P2E 게임으로 게임 플레이를 통해 획득할 수 있는 ‘RedGem’을 거래소, 제작, 상점, 소켓 등 다양한 콘텐츠에서 사용할 수 있을 뿐만 아니라 ‘RedGem’을 럭스 토큰으로 교환하여 수익을 창출할 수 있게 하는 등 글로벌 서비스를 목표로 준비 중에 있다.스톰게임즈 관계자는 ‘FourGodsOnWEMIX’’는 뛰어난 블록체인 기술을 기반으로 모바일의 한계를 뛰어넘는 압도적이고 화려한 스킬 액션과 ‘RedGem’으로 다양한 아이템과 럭스 토큰을 교환하는 자유 경제 시스템 구축할 예정이다” 라며 “티저 사이트를 통해 유저분들과 꾸준히 소통하며 글로벌 서비스에 차질이 없도록 준비하겠다”라고 말했다.사진=스톰게임즈최지영 기자 wldud2246@xportsnews.com',\n",
       " 'topimage': 'https://imgnews.pstatic.net/image/311/2022/03/25/0001425385_001_20220325170603579.jpg',\n",
       " 'thumbnail': 'https://search.pstatic.net/common/?src=https%3A%2F%2Fimgnews.pstatic.net%2Fimage%2Forigin%2F311%2F2022%2F03%2F25%2F1425385.jpg&type=ff264_180&expire=2&refresh=true'}"
      ]
     },
     "execution_count": 6,
     "metadata": {},
     "output_type": "execute_result"
    }
   ],
   "source": [
    "news_data[0]"
   ]
  },
  {
   "cell_type": "markdown",
   "id": "dbbf09b8",
   "metadata": {},
   "source": [
    "## DB(MySQL) Insert"
   ]
  },
  {
   "cell_type": "markdown",
   "id": "35170c51",
   "metadata": {},
   "source": [
    "### DB Connect"
   ]
  },
  {
   "cell_type": "code",
   "execution_count": 14,
   "id": "5f643a27",
   "metadata": {},
   "outputs": [],
   "source": [
    "conn = pymysql.connect(\n",
    "    host=\"localhost\",\n",
    "    user=\"root\",\n",
    "    password=\"1234\",\n",
    "    db=\"h2e\",\n",
    "    charset=\"utf8\",\n",
    ")"
   ]
  },
  {
   "cell_type": "code",
   "execution_count": 16,
   "id": "1fb236d7",
   "metadata": {},
   "outputs": [],
   "source": [
    "# 커서\n",
    "cursor = conn.cursor(pymysql.cursors.DictCursor)"
   ]
  },
  {
   "cell_type": "code",
   "execution_count": 36,
   "id": "f01aefdf",
   "metadata": {},
   "outputs": [],
   "source": [
    "insert_sql = \"\"\"\n",
    "    INSERT INTO article \n",
    "    (language, press, title, shortcontent, content, url, thumbnail, topimage, publishdate, goodcount, viewcount)\n",
    "    VALUES (%(language)s, %(press)s, %(title)s, %(shortcontent)s, %(content)s,\n",
    "     %(url)s, %(thumbnail)s, %(topimage)s, %(publishdate)s, %(goodcount)s, %(viewcount)s);\"\"\""
   ]
  },
  {
   "cell_type": "code",
   "execution_count": 30,
   "id": "21958b77",
   "metadata": {},
   "outputs": [],
   "source": [
    "for row in news_data:\n",
    "    row[\"goodcount\"] = 0\n",
    "    row[\"viewcount\"] = 0"
   ]
  },
  {
   "cell_type": "code",
   "execution_count": 38,
   "id": "0c0d28dc",
   "metadata": {},
   "outputs": [],
   "source": [
    "cursor.executemany(insert_sql, news_data)\n",
    "conn.commit()"
   ]
  },
  {
   "cell_type": "code",
   "execution_count": null,
   "id": "9738822e",
   "metadata": {},
   "outputs": [],
   "source": []
  }
 ],
 "metadata": {
  "interpreter": {
   "hash": "ca37adc465479a74c6a141ab03dbdf7641081253eef51a46dbf42999bc11eb1a"
  },
  "kernelspec": {
   "display_name": "Python 3",
   "language": "python",
   "name": "python3"
  },
  "language_info": {
   "codemirror_mode": {
    "name": "ipython",
    "version": 3
   },
   "file_extension": ".py",
   "mimetype": "text/x-python",
   "name": "python",
   "nbconvert_exporter": "python",
   "pygments_lexer": "ipython3",
   "version": "3.7.10"
  }
 },
 "nbformat": 4,
 "nbformat_minor": 5
}
