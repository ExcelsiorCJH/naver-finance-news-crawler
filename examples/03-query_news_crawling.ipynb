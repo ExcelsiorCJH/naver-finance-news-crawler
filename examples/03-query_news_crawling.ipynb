{
 "cells": [
  {
   "cell_type": "markdown",
   "metadata": {},
   "source": [
    "# Query News Crawler"
   ]
  },
  {
   "cell_type": "markdown",
   "metadata": {},
   "source": [
    "## 0. imports"
   ]
  },
  {
   "cell_type": "code",
   "execution_count": 1,
   "metadata": {},
   "outputs": [],
   "source": [
    "%load_ext lab_black"
   ]
  },
  {
   "cell_type": "code",
   "execution_count": 2,
   "metadata": {},
   "outputs": [],
   "source": [
    "import sys\n",
    "\n",
    "sys.path.append(\"..\")"
   ]
  },
  {
   "cell_type": "code",
   "execution_count": 3,
   "metadata": {},
   "outputs": [],
   "source": [
    "import os\n",
    "import re\n",
    "import time\n",
    "import random\n",
    "import dill\n",
    "import requests\n",
    "import urllib\n",
    "import bs4\n",
    "\n",
    "from collections import defaultdict\n",
    "from datetime import datetime, timedelta\n",
    "from typing import List, Dict, Union\n",
    "\n",
    "from bs4 import BeautifulSoup\n",
    "from bs4.element import NavigableString\n",
    "from kss import split_sentences\n",
    "\n",
    "from newspaper import Article\n",
    "from tqdm import tqdm, trange\n",
    "from crawler.utils import clean_text"
   ]
  },
  {
   "cell_type": "markdown",
   "metadata": {},
   "source": [
    "## 1. QueryNewsCrawler class"
   ]
  },
  {
   "cell_type": "markdown",
   "metadata": {},
   "source": [
    "### 1.1 line by line coding"
   ]
  },
  {
   "cell_type": "code",
   "execution_count": 4,
   "metadata": {},
   "outputs": [],
   "source": [
    "query = \"P2E P&E\"\n",
    "query = urllib.parse.quote(query)\n",
    "\n",
    "main_url = \"https://search.naver.com/search.naver\"\n",
    "query_url = \"?where=news&sm=tab_pge&query=\"\n",
    "# 네이버 뉴스의 경우 page가 아닌\n",
    "# 뉴스 기사 개수 카운팅으로 보여주고 있음\n",
    "# 1 ~ 4000개까지 10개 단위로 보여줌\n",
    "page_url = \"&sort=0&photo=0&field=0&pd=0&ds=&de=&cluster_rank=23&mynews=0&office_type=0&office_section_code=0&news_office_checked=&nso=so:r,p:all,a:all&start=\"\n",
    "\n",
    "start = 1\n",
    "start_range = list(range(1, 4000, 10))\n",
    "url = f\"{main_url}{query_url}{query}{page_url}{start}\""
   ]
  },
  {
   "cell_type": "code",
   "execution_count": 5,
   "metadata": {},
   "outputs": [],
   "source": [
    "# req = requests.get(url)\n",
    "# soup = BeautifulSoup(req.text, \"html.parser\")\n",
    "\n",
    "# # ul lists\n",
    "# ul_lists = soup.find(\"ul\", {\"class\": \"list_news\"})\n",
    "# # news links\n",
    "# links = ul_lists.find_all(\"a\", {\"class\": \"news_tit\"})\n",
    "# link_title_dict = {row[\"href\"]: {\"title\": row[\"title\"]} for row in links}\n",
    "\n",
    "\n",
    "# # update news texts\n",
    "# news_texts = ul_lists.find_all(\"a\", {\"class\": \"api_txt_lines dsc_txt_wrap\"})\n",
    "# for row in news_texts:\n",
    "#     link_title_dict[row[\"href\"]][\"text\"] = row.text"
   ]
  },
  {
   "cell_type": "code",
   "execution_count": 6,
   "metadata": {},
   "outputs": [],
   "source": [
    "# # request and soup\n",
    "# req = requests.get(url)\n",
    "# soup = BeautifulSoup(req.text, \"html.parser\")\n",
    "\n",
    "# # ul lists and li lists\n",
    "# ul_lists = soup.find(\"ul\", {\"class\": \"list_news\"})\n",
    "# li_lists = ul_lists.findChildren(\"li\", {\"class\": \"bx\"})\n",
    "\n",
    "# news_data = []\n",
    "# for li in li_lists:\n",
    "\n",
    "#     # news link & title\n",
    "#     link = li.find(\"a\", {\"class\": \"news_tit\"})\n",
    "#     href, title = link[\"href\"], link[\"title\"]\n",
    "\n",
    "#     # news text\n",
    "#     text = li.find(\"a\", {\"class\": \"api_txt_lines dsc_txt_wrap\"}).text\n",
    "\n",
    "#     # thumb nail if exist\n",
    "#     thumb = \"\"\n",
    "#     thumb_link = li.find(\"img\", {\"class\": \"thumb api_get\"})\n",
    "#     if thumb_link:\n",
    "#         thumb = thumb_link[\"src\"]\n",
    "\n",
    "#     # update link_title_dict\n",
    "#     news_data.append({\"href\": href, \"title\": title, \"text\": text, \"thumb\": thumb})"
   ]
  },
  {
   "cell_type": "code",
   "execution_count": 7,
   "metadata": {},
   "outputs": [
    {
     "data": {
      "text/plain": [
       "'13시간 전'"
      ]
     },
     "execution_count": 7,
     "metadata": {},
     "output_type": "execute_result"
    }
   ],
   "source": [
    "# li = li_lists[0]\n",
    "# li.find(\"span\", {\"class\": \"info\"}).text"
   ]
  },
  {
   "cell_type": "code",
   "execution_count": 9,
   "metadata": {},
   "outputs": [],
   "source": [
    "# for news in news_data:\n",
    "#     href = news[\"href\"]\n",
    "\n",
    "#     # 언어가 한국어이므로 language='ko'로 설정\n",
    "#     a = Article(href, language=\"ko\")\n",
    "#     a.download()\n",
    "#     a.parse()\n",
    "\n",
    "#     news[\"date\"] = a.publish_date"
   ]
  },
  {
   "cell_type": "code",
   "execution_count": 10,
   "metadata": {},
   "outputs": [],
   "source": [
    "# news_data"
   ]
  },
  {
   "cell_type": "markdown",
   "metadata": {},
   "source": [
    "### 1.2 Class"
   ]
  },
  {
   "cell_type": "code",
   "execution_count": 11,
   "metadata": {},
   "outputs": [],
   "source": [
    "class QueryNewsCrawler:\n",
    "    def __init__(self):\n",
    "        # 네이버 뉴스의 경우 page가 아닌\n",
    "        # 뉴스 기사 개수 카운팅으로 보여주고 있음\n",
    "        # 1 ~ 4000개까지 10개 단위로 보여줌\n",
    "        self.main_url = \"https://search.naver.com/search.naver\"\n",
    "        self.query_url = \"?where=news&sm=tab_pge&query=\"\n",
    "        self.page_url = \"&sort=0&photo=0&field=0&pd=0&ds=&de=&cluster_rank=23&mynews=0&office_type=0&\"\n",
    "        self.page_url += (\n",
    "            \"office_section_code=0&news_office_checked=&nso=so:r,p:all,a:all&start=\"\n",
    "        )\n",
    "\n",
    "    def crawl_news_by_query(self, query: str, count: int = 200) -> List[Dict]:\n",
    "        self.query = query\n",
    "        parsed_query = urllib.parse.quote(query)\n",
    "\n",
    "        if count:\n",
    "            start_range = list(range(1, count, 10))\n",
    "        else:\n",
    "            start_range = list(range(1, 4000, 10))\n",
    "\n",
    "        news_data = []\n",
    "        for s_idx in tqdm(start_range):\n",
    "            url = f\"{self.main_url}{self.query_url}{parsed_query}{self.page_url}{s_idx}\"\n",
    "\n",
    "            # request and soup\n",
    "            req = requests.get(url)\n",
    "            soup = BeautifulSoup(req.text, \"html.parser\")\n",
    "\n",
    "            # ul lists and li lists\n",
    "            ul_lists = soup.find(\"ul\", {\"class\": \"list_news\"})\n",
    "            li_lists = ul_lists.findChildren(\"li\", {\"class\": \"bx\"})\n",
    "            for li in li_lists:\n",
    "                # news link & title\n",
    "                link = li.find(\"a\", {\"class\": \"news_tit\"})\n",
    "                href, title = link[\"href\"], link[\"title\"]\n",
    "\n",
    "                # publish date\n",
    "                publish_date = self._get_datetime(href, li)\n",
    "\n",
    "                # news text\n",
    "                text = li.find(\"a\", {\"class\": \"api_txt_lines dsc_txt_wrap\"}).text\n",
    "                # thumb nail if exist\n",
    "                thumb = \"\"\n",
    "                thumb_link = li.find(\"img\", {\"class\": \"thumb api_get\"})\n",
    "                if thumb_link:\n",
    "                    thumb = thumb_link[\"src\"]\n",
    "\n",
    "                # update link_title_dict\n",
    "                news_data.append(\n",
    "                    {\n",
    "                        \"href\": href,\n",
    "                        \"date\": publish_date,\n",
    "                        \"title\": title,\n",
    "                        \"text\": text,\n",
    "                        \"thumb\": thumb,\n",
    "                    }\n",
    "                )\n",
    "            time.sleep(random.uniform(0.6, 0.9))\n",
    "        return news_data\n",
    "\n",
    "    def _get_datetime(self, href: str, li: bs4.element.Tag):\n",
    "        try:\n",
    "            a = Article(href, language=\"ko\")\n",
    "            a.download()\n",
    "            a.parse()\n",
    "            publish_date = a.publish_date\n",
    "        except:\n",
    "            publish_date = None\n",
    "\n",
    "        if publish_date is None:\n",
    "            date = li.find(\"span\", {\"class\": \"info\"}).text\n",
    "            date = date.split()[0]\n",
    "\n",
    "            if \"분\" in date:\n",
    "                minutes = re.sub(r\"[^\\d+]\", \"\", date)\n",
    "                publish_date = datetime.now() - timedelta(minutes=int(minutes))\n",
    "            elif \"시간\" in date:\n",
    "                hours = re.sub(r\"[^\\d+]\", \"\", date)\n",
    "                publish_date = datetime.now() - timedelta(hours=int(hours))\n",
    "            elif \"일\" in date:\n",
    "                days = re.sub(r\"[^\\d+]\", \"\", date)\n",
    "                publish_date = datetime.now() - timedelta(days=int(days))\n",
    "            else:\n",
    "                publish_date = datetime.strptime(date, \"%Y.%m.%d.\")\n",
    "        return publish_date"
   ]
  },
  {
   "cell_type": "markdown",
   "metadata": {},
   "source": [
    "## 2. Test"
   ]
  },
  {
   "cell_type": "code",
   "execution_count": 12,
   "metadata": {},
   "outputs": [],
   "source": [
    "crawler = QueryNewsCrawler()"
   ]
  },
  {
   "cell_type": "code",
   "execution_count": 17,
   "metadata": {},
   "outputs": [
    {
     "name": "stderr",
     "output_type": "stream",
     "text": [
      "100%|██████████| 2/2 [00:08<00:00,  4.48s/it]\n"
     ]
    }
   ],
   "source": [
    "query = \"코스피\"\n",
    "count = 20\n",
    "news_data = crawler.crawl_news_by_query(query=query, count=count)"
   ]
  },
  {
   "cell_type": "code",
   "execution_count": 18,
   "metadata": {},
   "outputs": [
    {
     "data": {
      "text/plain": [
       "[{'href': 'http://news.tf.co.kr/read/economy/1925213.htm',\n",
       "  'date': datetime.datetime(2022, 3, 17, 16, 28, 6, tzinfo=tzoffset(None, 32400)),\n",
       "  'title': \"[시황] 국내증시, 美 금리인상에도 '상승'…코스피 2700선 코앞\",\n",
       "  'text': '코스피, 1.33% 오른 2694.51 마감 17일 코스피지수가 1% 넘게 상승하며 2700선을 목전에 뒀다. 코스피와 코스닥 모두 외국인과 기관이 크게 매수했다. 코스피지수는 전일 대비 1.33%(35.28포인트) 상승한 2694.51에 마쳤다....',\n",
       "  'thumb': 'https://search.pstatic.net/common/?src=https%3A%2F%2Fimgnews.pstatic.net%2Fimage%2Forigin%2F629%2F2022%2F03%2F17%2F138204.jpg&type=ff264_180&expire=2&refresh=true'},\n",
       " {'href': 'http://yna.kr/AKR20220317049551002?did=1195m',\n",
       "  'date': datetime.datetime(2022, 3, 17, 16, 3, 56, tzinfo=tzoffset(None, 32400)),\n",
       "  'title': \"코스피, 미국 FOMC 불확실성 해소에 '안도 랠리'…1.33% 상승(종합)\",\n",
       "  'text': '코스닥지수 2.50% 급등…8거래일 만에 900대 회복 코스피가 17일 미국 연방준비제도(Fed·연준)의 금리 인상에도 안도 랠리를 펼쳤다. 이날 코스피는 전 거래일보다 35.28포인트(1.33%) 오른 2,694.51에 장을 마쳤다....',\n",
       "  'thumb': 'https://search.pstatic.net/common/?src=https%3A%2F%2Fimgnews.pstatic.net%2Fimage%2Forigin%2F001%2F2022%2F03%2F17%2F13057690.jpg&type=ff264_180&expire=2&refresh=true'},\n",
       " {'href': 'https://www.ytn.co.kr/_ln/0102_202203170926161297',\n",
       "  'date': datetime.datetime(2022, 3, 17, 9, 26, tzinfo=tzoffset(None, 32400)),\n",
       "  'title': '미국 금리 인상에도 코스피 상승...\"불확실성 해소\"',\n",
       "  'text': '현재 코스피 상황 어떤가요? [기자] 어제 반등했던 코스피는 오늘 오전 장 시작과 함께 1% 넘게 상승했습니다. 현재시각 기준 코스피는 2,700대를 회복했는데요, 어제보다 2% 가까이 오른 수준입니다. 최근 국내 주식시장은...',\n",
       "  'thumb': 'https://search.pstatic.net/common/?src=https%3A%2F%2Fimgnews.pstatic.net%2Fimage%2Forigin%2F052%2F2022%2F03%2F17%2F1714582.jpg&type=ff264_180&expire=2&refresh=true'},\n",
       " {'href': 'http://www.newsis.com/view/?id=NISI20220317_0018603032',\n",
       "  'date': datetime.datetime(2022, 3, 17, 16, 2, 16, tzinfo=tzoffset(None, 32400)),\n",
       "  'title': '코스피 상승 마감',\n",
       "  'text': '코스피가 전 거래일(2659.23)보다 35.28포인트(1.33%) 오른 2694.51에 마친 17일 오후 서울 중구 하나은행 본점 딜링룸에서 딜러들이 업무를 보고 있다. 이날 코스닥지수는 전 거래일(891.80)보다 22.33포인트(2.50...',\n",
       "  'thumb': 'https://search.pstatic.net/common/?src=https%3A%2F%2Fimgnews.pstatic.net%2Fimage%2Forigin%2F003%2F2022%2F03%2F17%2F11068583.jpg&type=ff264_180&expire=2&refresh=true'},\n",
       " {'href': 'https://www.khan.co.kr/economy/economy-general/article/202203171232001',\n",
       "  'date': datetime.datetime(2022, 3, 17, 12, 32, tzinfo=tzoffset(None, 32400)),\n",
       "  'title': '미 연준 기준금리 인상 발표로 불확실성 해소…코스피 1% 넘게 상승',\n",
       "  'text': '코스피가 장 초반 1% 넘게 뛰며 2700선을 회복했다. 미국 연방준비제도(Fed·연준)가 금리인상을 발표했지만, 오히려 불확실성이 완화됐다는 점이 국내 증시에도 호재로 작용한 것으로 풀이된다. 17일 정오 코스피지...',\n",
       "  'thumb': 'https://search.pstatic.net/common/?src=https%3A%2F%2Fimgnews.pstatic.net%2Fimage%2Forigin%2F032%2F2022%2F03%2F17%2F3134763.jpg&type=ff264_180&expire=2&refresh=true'},\n",
       " {'href': 'http://news.mk.co.kr/newsRead.php?no=248027&year=2022',\n",
       "  'date': datetime.datetime(2022, 3, 17, 17, 28, 24, tzinfo=tzoffset(None, 32400)),\n",
       "  'title': \"반도체·배터리株 급등…코스피 '안도 랠리'\",\n",
       "  'text': '기관·외국인 쌍끌이 매수 코스피 2700 가까이 올라 코스닥 8거래일만에 900선 SK하이닉스 6% 넘게 상승 LG엔솔 제치고 시총 2위로 유가증권시장(코스피)이 2700선에 다시 바짝 다가섰다. 2600대에 머물던 코스피는 그동안...',\n",
       "  'thumb': 'https://search.pstatic.net/common/?src=https%3A%2F%2Fimgnews.pstatic.net%2Fimage%2Forigin%2F009%2F2022%2F03%2F17%2F4936231.jpg&type=ff264_180&expire=2&refresh=true'},\n",
       " {'href': 'https://imnews.imbc.com/replay/2022/nw1200/article/6350909_35715.html',\n",
       "  'date': datetime.datetime(2022, 3, 17, 12, 16, 6, tzinfo=tzoffset(None, 32400)),\n",
       "  'title': '코스피 2,700선 회복‥코스닥도 상승 흐름',\n",
       "  'text': '코스피, 코스닥 시장에 외국인과 기관 매수세가 유입되면서 양지수가 어제의 상승 흐름을 이어가고 있습니다. 이 시각 현재 코스피는 어제보다 46.77포인트 상승한 2,706포인트로, 코스닥은 20.4포인트 오른 912.2포인트로...',\n",
       "  'thumb': 'https://search.pstatic.net/common/?src=https%3A%2F%2Fimgnews.pstatic.net%2Fimage%2Forigin%2F214%2F2022%2F03%2F17%2F1184861.jpg&type=ff264_180&expire=2&refresh=true'},\n",
       " {'href': 'http://news.mt.co.kr/mtview.php?no=2022031715563766703',\n",
       "  'date': datetime.datetime(2022, 3, 17, 16, 6, tzinfo=tzoffset(None, 32400)),\n",
       "  'title': '증권가 \"아직 추격 매수할 때 아니다…한다면 코스피?\"',\n",
       "  'text': '17일 코스피는 전 거래일 대비 35.28포인트(1.33%) 오른 2694.51에, 코스닥은 22.33포인트(2.50%) 오른 914.13에 장을 마쳤다. 외국인과 기관의 쌍끌이 순매수세로 이날 국내 증시는 큰 폭으로 상승했다. 코스피에서 외국인과...',\n",
       "  'thumb': 'https://search.pstatic.net/common/?src=https%3A%2F%2Fimgnews.pstatic.net%2Fimage%2Forigin%2F008%2F2022%2F03%2F17%2F4721181.jpg&type=ff264_180&expire=2&refresh=true'},\n",
       " {'href': 'http://yna.kr/AKR20220317135800002?did=1195m',\n",
       "  'date': datetime.datetime(2022, 3, 17, 15, 37, 39, tzinfo=tzoffset(None, 32400)),\n",
       "  'title': '코스피, 미국 통화정책 불확실성 해소에 1.33%↑…2,700 근접',\n",
       "  'text': '코스닥지수 8거래일만에 900대 회복 코스피가 17일 미국의 통화정책에 대한 불확실성의 해소로 2,700선에 근접했다. 이날 코스피는 전 거래일보다 35.28포인트(1.33%) 오른 2,694.51에 장을 마쳤다. 지수는...',\n",
       "  'thumb': 'https://search.pstatic.net/common/?src=https%3A%2F%2Fimgnews.pstatic.net%2Fimage%2Forigin%2F001%2F2022%2F03%2F17%2F13057573.jpg&type=ff264_180&expire=2&refresh=true'},\n",
       " {'href': 'https://economist.co.kr/2022/03/17/stock/stockNormal/20220317094835115.html',\n",
       "  'date': datetime.datetime(2022, 3, 17, 0, 0),\n",
       "  'title': '코스피 2700선 회복…삼성전자·SK하이닉스 상승 출발 [개장시황]',\n",
       "  'text': '17일 코스피는 전날보다 44.04포인트(1.66%) 오른 2703.27에 출발했다. 오전 9시 11분 기준 기관은 1687억원... 코스피 시가총액 상위 항목은 대부분 빨간불을 켰다. 뉴욕증시 급등이 국내 증시에 긍정적인 영향을 준...',\n",
       "  'thumb': 'https://search.pstatic.net/common/?src=https%3A%2F%2Fimgnews.pstatic.net%2Fimage%2Forigin%2F243%2F2022%2F03%2F17%2F24248.jpg&type=ff264_180&expire=2&refresh=true'},\n",
       " {'href': 'http://www.newsis.com/view/?id=NISX20220317_0001797551&cID=15001&pID=15000',\n",
       "  'date': datetime.datetime(2022, 3, 17, 15, 54, 44, tzinfo=tzoffset(None, 32400)),\n",
       "  'title': \"[마감시황]환율 안정에 코스피 1.33% 상승…외국인·기관 '사자'\",\n",
       "  'text': '17일 코스피는 전 거래일(2659.23)보다 35.28포인트(1.33%) 오른 2694.51에 장을 마쳤다. 이날... 보이며 코스피 시가총액 2위를 재탈환했다\"고 설명했다. 이어 \"러시아와 우크라이나가 휴전하면 원자재 가격 급등세가...',\n",
       "  'thumb': 'https://search.pstatic.net/common/?src=https%3A%2F%2Fimgnews.pstatic.net%2Fimage%2Forigin%2F003%2F2022%2F03%2F17%2F11068549.jpg&type=ff264_180&expire=2&refresh=true'},\n",
       " {'href': 'http://news.mk.co.kr/newsRead.php?no=248027&year=2022',\n",
       "  'date': datetime.datetime(2022, 3, 17, 17, 28, 24, tzinfo=tzoffset(None, 32400)),\n",
       "  'title': \"반도체·배터리株 급등…코스피 '안도 랠리'\",\n",
       "  'text': '기관·외국인 쌍끌이 매수 코스피 2700 가까이 올라 코스닥 8거래일만에 900선 SK하이닉스 6% 넘게 상승 LG엔솔 제치고 시총 2위로 유가증권시장(코스피)이 2700선에 다시 바짝 다가섰다. 2600대에 머물던 코스피는 그동안...',\n",
       "  'thumb': 'https://search.pstatic.net/common/?src=https%3A%2F%2Fimgnews.pstatic.net%2Fimage%2Forigin%2F009%2F2022%2F03%2F17%2F4936231.jpg&type=ff264_180&expire=2&refresh=true'},\n",
       " {'href': 'https://imnews.imbc.com/replay/2022/nw1200/article/6350909_35715.html',\n",
       "  'date': datetime.datetime(2022, 3, 17, 12, 16, 6, tzinfo=tzoffset(None, 32400)),\n",
       "  'title': '코스피 2,700선 회복‥코스닥도 상승 흐름',\n",
       "  'text': '코스피, 코스닥 시장에 외국인과 기관 매수세가 유입되면서 양지수가 어제의 상승 흐름을 이어가고 있습니다. 이 시각 현재 코스피는 어제보다 46.77포인트 상승한 2,706포인트로, 코스닥은 20.4포인트 오른 912.2포인트로...',\n",
       "  'thumb': 'https://search.pstatic.net/common/?src=https%3A%2F%2Fimgnews.pstatic.net%2Fimage%2Forigin%2F214%2F2022%2F03%2F17%2F1184861.jpg&type=ff264_180&expire=2&refresh=true'},\n",
       " {'href': 'http://news.mk.co.kr/newsRead.php?no=246210&year=2022',\n",
       "  'date': datetime.datetime(2022, 3, 17, 12, 56, 7, tzinfo=tzoffset(None, 32400)),\n",
       "  'title': '뚜껑 연 3월 FOMC…코스피 투심 회복될까',\n",
       "  'text': '미국 연방공개시장위원회(FOMC)를 앞두고 불안감 속에 투자심리가 위축되며 코스피 거래대금이 지난 1월을... 17일 한국거래소에 따르면 오전 11시 21분 현재 코스피 지수는 전일 대비 47.88(1.80%) 오른 2707.11에 거래되고...',\n",
       "  'thumb': 'https://search.pstatic.net/common/?src=https%3A%2F%2Fimgnews.pstatic.net%2Fimage%2Forigin%2F009%2F2022%2F03%2F17%2F4936029.jpg&type=ff264_180&expire=2&refresh=true'},\n",
       " {'href': 'http://www.edaily.co.kr/news/newspath.asp?newsid=01617046632264304',\n",
       "  'date': datetime.datetime(2022, 3, 17, 9, 10, 53, tzinfo=tzoffset(None, 32400)),\n",
       "  'title': '코스피, 2700선 회복…1% 이상 큰 폭 상승 출발',\n",
       "  'text': '17일 코스피 지수가 2700선을 회복하며 큰 폭 상승 출발했다. 미국 3월 연방공개시장위원회(FOMC)에서... 이날 마켓포인트에 따르면 오전 9시8분 현재 코스피는 전 거래일 대비 41.25포인트(1.55%) 오른 2700.48을 기록...',\n",
       "  'thumb': 'https://search.pstatic.net/common/?src=https%3A%2F%2Fimgnews.pstatic.net%2Fimage%2Forigin%2F018%2F2022%2F03%2F17%2F5168641.jpg&type=ff264_180&expire=2&refresh=true'},\n",
       " {'href': 'http://yna.kr/AKR20220317168400002?did=1195m',\n",
       "  'date': datetime.datetime(2022, 3, 17, 18, 34, 28, tzinfo=tzoffset(None, 32400)),\n",
       "  'title': '\"증시 \\'코리아 디스카운트\\' 해소하자\"…\\'세이브코스피\\' 주주운동',\n",
       "  'text': '경제 인플루언서 주축 제도개선 촉구…\"주주환원율 70%까지 올려야\" 경제 전문가와 인플루언서들이 한국 증시의 고질적 문제인 \\'코리아 디스카운트\\' 현상을 개선하자는 \\'세이브코스피\\' 주주운동에 나섰다. \\'세이브코스피...',\n",
       "  'thumb': 'https://search.pstatic.net/common/?src=https%3A%2F%2Fimgnews.pstatic.net%2Fimage%2Forigin%2F001%2F2022%2F03%2F17%2F13057998.jpg&type=ff264_180&expire=2&refresh=true'},\n",
       " {'href': 'http://yna.kr/AKR20220316043051002?did=1195m',\n",
       "  'date': datetime.datetime(2022, 3, 16, 16, 6, 8, tzinfo=tzoffset(None, 32400)),\n",
       "  'title': '코스피, 인플레 우려 완화 등에 2,660선 근접…기관 순매수(종합)',\n",
       "  'text': '코스닥지수 2.36% 반등…시총 상위 10개 종목 모두 올라 코스피가 16일 인플레이션(물가 상승) 우려 완화 등에 힘입어 반등했다. 이날 코스피는 전 거래일보다 37.70포인트(1.44%) 오른 2,659.23에 마감했다. 종가...',\n",
       "  'thumb': 'https://search.pstatic.net/common/?src=https%3A%2F%2Fimgnews.pstatic.net%2Fimage%2Forigin%2F001%2F2022%2F03%2F16%2F13055064.jpg&type=ff264_180&expire=2&refresh=true'},\n",
       " {'href': 'http://news.mt.co.kr/mtview.php?no=2022031715563766703',\n",
       "  'date': datetime.datetime(2022, 3, 17, 16, 6, tzinfo=tzoffset(None, 32400)),\n",
       "  'title': '증권가 \"아직 추격 매수할 때 아니다…한다면 코스피?\"',\n",
       "  'text': '17일 코스피는 전 거래일 대비 35.28포인트(1.33%) 오른 2694.51에, 코스닥은 22.33포인트(2.50%) 오른 914.13에 장을 마쳤다. 외국인과 기관의 쌍끌이 순매수세로 이날 국내 증시는 큰 폭으로 상승했다. 코스피에서 외국인과...',\n",
       "  'thumb': 'https://search.pstatic.net/common/?src=https%3A%2F%2Fimgnews.pstatic.net%2Fimage%2Forigin%2F008%2F2022%2F03%2F17%2F4721181.jpg&type=ff264_180&expire=2&refresh=true'},\n",
       " {'href': 'https://biz.chosun.com/stock/market_trend/2022/03/16/ULRWQJ67JREQTHXHO3YE6UG3OI/?utm_source=naver&utm_medium=original&utm_campaign=biz',\n",
       "  'date': datetime.datetime(2022, 3, 16, 0, 0),\n",
       "  'title': '[마켓뷰] 코스피, 1% 넘게 상승…시총 상위주 ‘들썩’',\n",
       "  'text': '3% 상승…외인·기관 ‘사자’ 코스피지수가 4거래일 만에 상승 마감했다. 간밤 미국에서 인플레이션 우려가 완화되면서 투자심리가 회복된 가운데 반도체, 항공주 등이 상승을 주도했다. 코스피, 코스닥...',\n",
       "  'thumb': 'https://search.pstatic.net/common/?src=https%3A%2F%2Fimgnews.pstatic.net%2Fimage%2Forigin%2F366%2F2022%2F03%2F16%2F800088.jpg&type=ff264_180&expire=2&refresh=true'},\n",
       " {'href': 'http://www.newsis.com/view/?id=NISI20220316_0018599042',\n",
       "  'date': datetime.datetime(2022, 3, 16, 16, 2, 41, tzinfo=tzoffset(None, 32400)),\n",
       "  'title': '코스피·코스닥 상승 마감',\n",
       "  'text': '코스피가 전 거래일(2621.53)보다 37.70포인트(1.44%) 오른 2659.23에 마감한 16일 오후 서울 중구 하나은행 딜링룸 전광판에 지수가 표시돼 있다. 코스닥지수는 전 거래일(871.22)보다 20.58포인트(2.36%) 상승한...',\n",
       "  'thumb': 'https://search.pstatic.net/common/?src=https%3A%2F%2Fimgnews.pstatic.net%2Fimage%2Forigin%2F003%2F2022%2F03%2F16%2F11066112.jpg&type=ff264_180&expire=2&refresh=true'}]"
      ]
     },
     "execution_count": 18,
     "metadata": {},
     "output_type": "execute_result"
    }
   ],
   "source": [
    "news_data"
   ]
  },
  {
   "cell_type": "code",
   "execution_count": null,
   "metadata": {},
   "outputs": [],
   "source": []
  }
 ],
 "metadata": {
  "interpreter": {
   "hash": "ca37adc465479a74c6a141ab03dbdf7641081253eef51a46dbf42999bc11eb1a"
  },
  "kernelspec": {
   "display_name": "Python 3.7.10 ('pt-py37')",
   "language": "python",
   "name": "python3"
  },
  "language_info": {
   "codemirror_mode": {
    "name": "ipython",
    "version": 3
   },
   "file_extension": ".py",
   "mimetype": "text/x-python",
   "name": "python",
   "nbconvert_exporter": "python",
   "pygments_lexer": "ipython3",
   "version": "3.7.10"
  },
  "orig_nbformat": 4
 },
 "nbformat": 4,
 "nbformat_minor": 2
}
