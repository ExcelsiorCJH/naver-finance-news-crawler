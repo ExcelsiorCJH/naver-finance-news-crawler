{
 "cells": [
  {
   "cell_type": "markdown",
   "id": "6732731a",
   "metadata": {},
   "source": [
    "# Process After Crawling"
   ]
  },
  {
   "cell_type": "markdown",
   "id": "aea9b168",
   "metadata": {},
   "source": [
    "## 0. imports"
   ]
  },
  {
   "cell_type": "code",
   "execution_count": 3,
   "id": "e13817ea",
   "metadata": {},
   "outputs": [
    {
     "data": {
      "text/html": [
       "\n",
       "                <script type=\"application/javascript\" id=\"jupyter_black\">\n",
       "                (function() {\n",
       "                    if (window.IPython === undefined) {\n",
       "                        return\n",
       "                    }\n",
       "                    var msg = \"WARNING: it looks like you might have loaded \" +\n",
       "                        \"jupyter_black in a non-lab notebook with \" +\n",
       "                        \"`is_lab=True`. Please double check, and if \" +\n",
       "                        \"loading with `%load_ext` please review the README!\"\n",
       "                    console.log(msg)\n",
       "                    alert(msg)\n",
       "                })()\n",
       "                </script>\n",
       "                "
      ],
      "text/plain": [
       "<IPython.core.display.HTML object>"
      ]
     },
     "metadata": {},
     "output_type": "display_data"
    }
   ],
   "source": [
    "%load_ext jupyter_black"
   ]
  },
  {
   "cell_type": "code",
   "execution_count": 4,
   "id": "ac60c3fb",
   "metadata": {},
   "outputs": [],
   "source": [
    "import os\n",
    "import dill\n",
    "import numpy as np\n",
    "import pandas as pd\n",
    "\n",
    "from glob import glob"
   ]
  },
  {
   "cell_type": "code",
   "execution_count": 5,
   "id": "7b5fa3d9",
   "metadata": {},
   "outputs": [],
   "source": [
    "import warnings\n",
    "\n",
    "warnings.filterwarnings(action=\"ignore\")"
   ]
  },
  {
   "cell_type": "markdown",
   "id": "0c012c75",
   "metadata": {},
   "source": [
    "## 1. Data load"
   ]
  },
  {
   "cell_type": "code",
   "execution_count": 6,
   "id": "09efce18",
   "metadata": {},
   "outputs": [],
   "source": [
    "data_dir = \"../data\"\n",
    "data_paths = glob(f\"{data_dir}/*.pkl\")\n",
    "data_paths.sort()"
   ]
  },
  {
   "cell_type": "code",
   "execution_count": 7,
   "id": "e758f961",
   "metadata": {},
   "outputs": [],
   "source": [
    "data = []\n",
    "for data_path in data_paths:\n",
    "    with open(data_path, \"rb\") as f:\n",
    "        data.extend(dill.load(f))"
   ]
  },
  {
   "cell_type": "code",
   "execution_count": 8,
   "id": "c5d1a414",
   "metadata": {},
   "outputs": [
    {
     "data": {
      "text/plain": [
       "8178"
      ]
     },
     "execution_count": 8,
     "metadata": {},
     "output_type": "execute_result"
    }
   ],
   "source": [
    "len(data)"
   ]
  },
  {
   "cell_type": "markdown",
   "id": "41a3b24b",
   "metadata": {},
   "source": [
    "## 2. Save as csv"
   ]
  },
  {
   "cell_type": "code",
   "execution_count": 9,
   "id": "907d3cbe",
   "metadata": {},
   "outputs": [],
   "source": [
    "news_df = pd.DataFrame(data)"
   ]
  },
  {
   "cell_type": "code",
   "execution_count": 10,
   "id": "448fce2f",
   "metadata": {},
   "outputs": [
    {
     "data": {
      "text/html": [
       "<div>\n",
       "<style scoped>\n",
       "    .dataframe tbody tr th:only-of-type {\n",
       "        vertical-align: middle;\n",
       "    }\n",
       "\n",
       "    .dataframe tbody tr th {\n",
       "        vertical-align: top;\n",
       "    }\n",
       "\n",
       "    .dataframe thead th {\n",
       "        text-align: right;\n",
       "    }\n",
       "</style>\n",
       "<table border=\"1\" class=\"dataframe\">\n",
       "  <thead>\n",
       "    <tr style=\"text-align: right;\">\n",
       "      <th></th>\n",
       "      <th>press</th>\n",
       "      <th>date</th>\n",
       "      <th>time</th>\n",
       "      <th>title</th>\n",
       "      <th>link</th>\n",
       "      <th>text</th>\n",
       "      <th>cleaned_text</th>\n",
       "    </tr>\n",
       "  </thead>\n",
       "  <tbody>\n",
       "    <tr>\n",
       "      <th>0</th>\n",
       "      <td>연합뉴스</td>\n",
       "      <td>2010-08-11</td>\n",
       "      <td>12:10:47</td>\n",
       "      <td>국내증시, 다시 불거진 '경기' 논란</td>\n",
       "      <td>https://finance.naver.com/news/news_read.naver...</td>\n",
       "      <td>中.美 경기회복 우려 부각…\"글로벌 경기회복 유효\" (서울=연합뉴스) 이준서 기자 ...</td>\n",
       "      <td>[. 경기회복 우려 부각글로벌 경기회복 유효    대기업의 2분기 어닝시즌이 마무리...</td>\n",
       "    </tr>\n",
       "    <tr>\n",
       "      <th>1</th>\n",
       "      <td>연합뉴스</td>\n",
       "      <td>2010-08-11</td>\n",
       "      <td>17:20:23</td>\n",
       "      <td>G2 불확실성, 한국 출구전략 영향줄까 (종합)</td>\n",
       "      <td>https://finance.naver.com/news/news_read.naver...</td>\n",
       "      <td>7월9일 열린 한국은행 금융통화위원회(자료사진) 금통위 12일 금리 결정 `고민 깊...</td>\n",
       "      <td>[7월9일 열린 한국은행 금융통화위원회 금통위 12일 금리 결정 고민 깊어진다  김...</td>\n",
       "    </tr>\n",
       "    <tr>\n",
       "      <th>2</th>\n",
       "      <td>매일경제</td>\n",
       "      <td>2010-08-11</td>\n",
       "      <td>13:53:01</td>\n",
       "      <td>G2 경기 둔화 우려, 국내 증시 `암울`</td>\n",
       "      <td>https://finance.naver.com/news/news_read.naver...</td>\n",
       "      <td>국내 기업의 2분기 실적 시즌이 마무리되면서 증시 상승을 이끌 요인으로 경기 회복 ...</td>\n",
       "      <td>[국내 기업의 2분기 실적 시즌이 마무리되면서 증시 상승을 이끌 요인으로 경기 회복...</td>\n",
       "    </tr>\n",
       "    <tr>\n",
       "      <th>3</th>\n",
       "      <td>세계일보</td>\n",
       "      <td>2010-08-11</td>\n",
       "      <td>15:57:01</td>\n",
       "      <td>\"국내 경기, 연말께 하강국면 진입 가능성\"</td>\n",
       "      <td>https://finance.naver.com/news/news_read.naver...</td>\n",
       "      <td>올해 들어 회복세인 국내 경기가 연말께 하강국면에 진입할 가능성이 있다는 주장이 나...</td>\n",
       "      <td>[올해 들어 회복세인 국내 경기가 연말께 하강국면에 진입할 가능성이 있다는 주장이 ...</td>\n",
       "    </tr>\n",
       "    <tr>\n",
       "      <th>4</th>\n",
       "      <td>매일경제</td>\n",
       "      <td>2010-08-11</td>\n",
       "      <td>17:37:01</td>\n",
       "      <td>어~랏！ 외국인 순매수가 아니네</td>\n",
       "      <td>https://finance.naver.com/news/news_read.naver...</td>\n",
       "      <td>\"증권사가 제공하는 외국인 매수 금액에서 860억원이나 오차가 난다는 게 도대체 말...</td>\n",
       "      <td>[증권사가 제공하는 외국인 매수 금액에서 860억원이나 오차가 난다는 게 도대체 말...</td>\n",
       "    </tr>\n",
       "  </tbody>\n",
       "</table>\n",
       "</div>"
      ],
      "text/plain": [
       "  press        date      time                       title  \\\n",
       "0  연합뉴스  2010-08-11  12:10:47        국내증시, 다시 불거진 '경기' 논란   \n",
       "1  연합뉴스  2010-08-11  17:20:23  G2 불확실성, 한국 출구전략 영향줄까 (종합)   \n",
       "2  매일경제  2010-08-11  13:53:01     G2 경기 둔화 우려, 국내 증시 `암울`   \n",
       "3  세계일보  2010-08-11  15:57:01    \"국내 경기, 연말께 하강국면 진입 가능성\"   \n",
       "4  매일경제  2010-08-11  17:37:01           어~랏！ 외국인 순매수가 아니네   \n",
       "\n",
       "                                                link  \\\n",
       "0  https://finance.naver.com/news/news_read.naver...   \n",
       "1  https://finance.naver.com/news/news_read.naver...   \n",
       "2  https://finance.naver.com/news/news_read.naver...   \n",
       "3  https://finance.naver.com/news/news_read.naver...   \n",
       "4  https://finance.naver.com/news/news_read.naver...   \n",
       "\n",
       "                                                text  \\\n",
       "0  中.美 경기회복 우려 부각…\"글로벌 경기회복 유효\" (서울=연합뉴스) 이준서 기자 ...   \n",
       "1  7월9일 열린 한국은행 금융통화위원회(자료사진) 금통위 12일 금리 결정 `고민 깊...   \n",
       "2  국내 기업의 2분기 실적 시즌이 마무리되면서 증시 상승을 이끌 요인으로 경기 회복 ...   \n",
       "3  올해 들어 회복세인 국내 경기가 연말께 하강국면에 진입할 가능성이 있다는 주장이 나...   \n",
       "4  \"증권사가 제공하는 외국인 매수 금액에서 860억원이나 오차가 난다는 게 도대체 말...   \n",
       "\n",
       "                                        cleaned_text  \n",
       "0  [. 경기회복 우려 부각글로벌 경기회복 유효    대기업의 2분기 어닝시즌이 마무리...  \n",
       "1  [7월9일 열린 한국은행 금융통화위원회 금통위 12일 금리 결정 고민 깊어진다  김...  \n",
       "2  [국내 기업의 2분기 실적 시즌이 마무리되면서 증시 상승을 이끌 요인으로 경기 회복...  \n",
       "3  [올해 들어 회복세인 국내 경기가 연말께 하강국면에 진입할 가능성이 있다는 주장이 ...  \n",
       "4  [증권사가 제공하는 외국인 매수 금액에서 860억원이나 오차가 난다는 게 도대체 말...  "
      ]
     },
     "execution_count": 10,
     "metadata": {},
     "output_type": "execute_result"
    }
   ],
   "source": [
    "news_df.head()"
   ]
  },
  {
   "cell_type": "code",
   "execution_count": 12,
   "id": "d5bf9bc5",
   "metadata": {},
   "outputs": [],
   "source": [
    "news_df.to_csv(\"naver_main_news.csv\", index=False)"
   ]
  },
  {
   "cell_type": "code",
   "execution_count": 13,
   "id": "7db3256f",
   "metadata": {},
   "outputs": [],
   "source": [
    "news_df = news_df[[\"date\", \"title\", \"cleaned_text\"]]"
   ]
  },
  {
   "cell_type": "code",
   "execution_count": 15,
   "id": "bc1bb72d",
   "metadata": {},
   "outputs": [],
   "source": [
    "news_df.to_csv(\"data.csv\", index=False)"
   ]
  },
  {
   "cell_type": "code",
   "execution_count": null,
   "id": "957f67c3",
   "metadata": {},
   "outputs": [],
   "source": []
  }
 ],
 "metadata": {
  "kernelspec": {
   "display_name": "smtm",
   "language": "python",
   "name": "python3"
  },
  "language_info": {
   "codemirror_mode": {
    "name": "ipython",
    "version": 3
   },
   "file_extension": ".py",
   "mimetype": "text/x-python",
   "name": "python",
   "nbconvert_exporter": "python",
   "pygments_lexer": "ipython3",
   "version": "3.11.9"
  }
 },
 "nbformat": 4,
 "nbformat_minor": 5
}
