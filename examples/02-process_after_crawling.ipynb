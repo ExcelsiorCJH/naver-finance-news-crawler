{
 "cells": [
  {
   "cell_type": "markdown",
   "id": "6732731a",
   "metadata": {},
   "source": [
    "# Process After Crawling"
   ]
  },
  {
   "cell_type": "markdown",
   "id": "aea9b168",
   "metadata": {},
   "source": [
    "## 0. imports"
   ]
  },
  {
   "cell_type": "code",
   "execution_count": 1,
   "id": "e13817ea",
   "metadata": {},
   "outputs": [],
   "source": [
    "%load_ext lab_black"
   ]
  },
  {
   "cell_type": "code",
   "execution_count": 2,
   "id": "ac60c3fb",
   "metadata": {},
   "outputs": [],
   "source": [
    "import os\n",
    "import dill\n",
    "import numpy as np\n",
    "import pandas as pd\n",
    "\n",
    "from glob import glob"
   ]
  },
  {
   "cell_type": "code",
   "execution_count": 3,
   "id": "7b5fa3d9",
   "metadata": {},
   "outputs": [],
   "source": [
    "import warnings\n",
    "\n",
    "warnings.filterwarnings(action=\"ignore\")"
   ]
  },
  {
   "cell_type": "markdown",
   "id": "0c012c75",
   "metadata": {},
   "source": [
    "## 1. Data load"
   ]
  },
  {
   "cell_type": "code",
   "execution_count": 4,
   "id": "09efce18",
   "metadata": {},
   "outputs": [],
   "source": [
    "data_dir = \"../data\"\n",
    "data_paths = glob(f\"{data_dir}/*.pkl\")\n",
    "data_paths.sort()"
   ]
  },
  {
   "cell_type": "code",
   "execution_count": 8,
   "id": "e758f961",
   "metadata": {},
   "outputs": [],
   "source": [
    "data = []\n",
    "for data_path in data_paths:\n",
    "    with open(data_path, \"rb\") as f:\n",
    "        data.extend(dill.load(f))"
   ]
  },
  {
   "cell_type": "code",
   "execution_count": 9,
   "id": "c5d1a414",
   "metadata": {},
   "outputs": [
    {
     "data": {
      "text/plain": [
       "14355"
      ]
     },
     "execution_count": 9,
     "metadata": {},
     "output_type": "execute_result"
    }
   ],
   "source": [
    "len(data)"
   ]
  },
  {
   "cell_type": "markdown",
   "id": "41a3b24b",
   "metadata": {},
   "source": [
    "## 2. Save as csv"
   ]
  },
  {
   "cell_type": "code",
   "execution_count": 10,
   "id": "907d3cbe",
   "metadata": {},
   "outputs": [],
   "source": [
    "news_df = pd.DataFrame(data)"
   ]
  },
  {
   "cell_type": "code",
   "execution_count": 11,
   "id": "448fce2f",
   "metadata": {},
   "outputs": [
    {
     "data": {
      "text/html": [
       "<div>\n",
       "<style scoped>\n",
       "    .dataframe tbody tr th:only-of-type {\n",
       "        vertical-align: middle;\n",
       "    }\n",
       "\n",
       "    .dataframe tbody tr th {\n",
       "        vertical-align: top;\n",
       "    }\n",
       "\n",
       "    .dataframe thead th {\n",
       "        text-align: right;\n",
       "    }\n",
       "</style>\n",
       "<table border=\"1\" class=\"dataframe\">\n",
       "  <thead>\n",
       "    <tr style=\"text-align: right;\">\n",
       "      <th></th>\n",
       "      <th>press</th>\n",
       "      <th>date</th>\n",
       "      <th>time</th>\n",
       "      <th>title</th>\n",
       "      <th>link</th>\n",
       "      <th>text</th>\n",
       "      <th>cleaned_text</th>\n",
       "    </tr>\n",
       "  </thead>\n",
       "  <tbody>\n",
       "    <tr>\n",
       "      <th>0</th>\n",
       "      <td>뉴스1</td>\n",
       "      <td>2019-01-09</td>\n",
       "      <td>23:41:52</td>\n",
       "      <td>[뉴욕개장] 무역협상 타결 기대감 속 나흘째 상승 출발</td>\n",
       "      <td>https://finance.naver.com/news/news_read.nhn?a...</td>\n",
       "      <td>\\n(서울=뉴스1) 김정한 기자 = 9일(현지시간) 뉴욕증시 3대 지수가 나흘 연속...</td>\n",
       "      <td>[9일 뉴욕증시 3대 지수가 나흘 연속 상승으로 출발했다., 미국과 중국의 무역회담...</td>\n",
       "    </tr>\n",
       "    <tr>\n",
       "      <th>1</th>\n",
       "      <td>조선비즈</td>\n",
       "      <td>2019-01-09</td>\n",
       "      <td>17:40:16</td>\n",
       "      <td>[마켓뷰] '무역분쟁 끝나나'…기대감에 불타오른 코스피</td>\n",
       "      <td>https://finance.naver.com/news/news_read.nhn?a...</td>\n",
       "      <td>\\n\\t\\t\\t\\t\\t\\t\\t 코스피지수가 전날의 약세를 딛고 하루만에 2% 가까이...</td>\n",
       "      <td>[코스피지수가 전날의 약세를 딛고 하루만에 2% 가까이 뛰어올랐다., 지난해 4분기...</td>\n",
       "    </tr>\n",
       "    <tr>\n",
       "      <th>2</th>\n",
       "      <td>이데일리</td>\n",
       "      <td>2019-01-09</td>\n",
       "      <td>16:47:08</td>\n",
       "      <td>[채권마감]이틀 연속 오르다 혼조세 마감</td>\n",
       "      <td>https://finance.naver.com/news/news_read.nhn?a...</td>\n",
       "      <td>\\n\\t\\t\\t\\t\\t\\t\\t [이데일리 김경은 기자] 이틀 연속 오름세를 보였던 ...</td>\n",
       "      <td>[이틀 연속 오름세를 보였던 국고채 금리는 이날 혼조세 마감했다., 9일 마켓포인트...</td>\n",
       "    </tr>\n",
       "    <tr>\n",
       "      <th>3</th>\n",
       "      <td>머니투데이</td>\n",
       "      <td>2019-01-09</td>\n",
       "      <td>16:38:28</td>\n",
       "      <td>[Asia마감] 美中 무역협상 진전 기대에 상승</td>\n",
       "      <td>https://finance.naver.com/news/news_read.nhn?a...</td>\n",
       "      <td>\\n\\t\\t\\t\\t\\t\\t\\t [머니투데이 정한결 기자] 아시아 주요 증시가 9일 ...</td>\n",
       "      <td>[아시아 주요 증시가 9일 일제히 상승했다., 미국과 중국의 무역협상 타결에 대한 ...</td>\n",
       "    </tr>\n",
       "    <tr>\n",
       "      <th>4</th>\n",
       "      <td>이데일리</td>\n",
       "      <td>2019-01-09</td>\n",
       "      <td>16:00:54</td>\n",
       "      <td>[외환마감]미·중 무역협상 기대감…원·달러 환율 하락</td>\n",
       "      <td>https://finance.naver.com/news/news_read.nhn?a...</td>\n",
       "      <td>\\n[이데일리 김정현 기자] 9일 원·달러 환율이 하락 마감했다. 미·중 무역협상 ...</td>\n",
       "      <td>[9일 원달러 환율이 하락 마감했다., 미중 무역협상 기대감이 투자심리에 온기를 불...</td>\n",
       "    </tr>\n",
       "  </tbody>\n",
       "</table>\n",
       "</div>"
      ],
      "text/plain": [
       "   press        date      time                           title  \\\n",
       "0    뉴스1  2019-01-09  23:41:52  [뉴욕개장] 무역협상 타결 기대감 속 나흘째 상승 출발   \n",
       "1   조선비즈  2019-01-09  17:40:16  [마켓뷰] '무역분쟁 끝나나'…기대감에 불타오른 코스피   \n",
       "2   이데일리  2019-01-09  16:47:08          [채권마감]이틀 연속 오르다 혼조세 마감   \n",
       "3  머니투데이  2019-01-09  16:38:28      [Asia마감] 美中 무역협상 진전 기대에 상승   \n",
       "4   이데일리  2019-01-09  16:00:54   [외환마감]미·중 무역협상 기대감…원·달러 환율 하락   \n",
       "\n",
       "                                                link  \\\n",
       "0  https://finance.naver.com/news/news_read.nhn?a...   \n",
       "1  https://finance.naver.com/news/news_read.nhn?a...   \n",
       "2  https://finance.naver.com/news/news_read.nhn?a...   \n",
       "3  https://finance.naver.com/news/news_read.nhn?a...   \n",
       "4  https://finance.naver.com/news/news_read.nhn?a...   \n",
       "\n",
       "                                                text  \\\n",
       "0  \\n(서울=뉴스1) 김정한 기자 = 9일(현지시간) 뉴욕증시 3대 지수가 나흘 연속...   \n",
       "1  \\n\\t\\t\\t\\t\\t\\t\\t 코스피지수가 전날의 약세를 딛고 하루만에 2% 가까이...   \n",
       "2  \\n\\t\\t\\t\\t\\t\\t\\t [이데일리 김경은 기자] 이틀 연속 오름세를 보였던 ...   \n",
       "3  \\n\\t\\t\\t\\t\\t\\t\\t [머니투데이 정한결 기자] 아시아 주요 증시가 9일 ...   \n",
       "4  \\n[이데일리 김정현 기자] 9일 원·달러 환율이 하락 마감했다. 미·중 무역협상 ...   \n",
       "\n",
       "                                        cleaned_text  \n",
       "0  [9일 뉴욕증시 3대 지수가 나흘 연속 상승으로 출발했다., 미국과 중국의 무역회담...  \n",
       "1  [코스피지수가 전날의 약세를 딛고 하루만에 2% 가까이 뛰어올랐다., 지난해 4분기...  \n",
       "2  [이틀 연속 오름세를 보였던 국고채 금리는 이날 혼조세 마감했다., 9일 마켓포인트...  \n",
       "3  [아시아 주요 증시가 9일 일제히 상승했다., 미국과 중국의 무역협상 타결에 대한 ...  \n",
       "4  [9일 원달러 환율이 하락 마감했다., 미중 무역협상 기대감이 투자심리에 온기를 불...  "
      ]
     },
     "execution_count": 11,
     "metadata": {},
     "output_type": "execute_result"
    }
   ],
   "source": [
    "news_df.head()"
   ]
  },
  {
   "cell_type": "code",
   "execution_count": 12,
   "id": "d5bf9bc5",
   "metadata": {},
   "outputs": [],
   "source": [
    "news_df.to_csv(\"naver_main_news.csv\", index=False)"
   ]
  },
  {
   "cell_type": "code",
   "execution_count": 13,
   "id": "7db3256f",
   "metadata": {},
   "outputs": [],
   "source": [
    "news_df = news_df[[\"date\", \"title\", \"cleaned_text\"]]"
   ]
  },
  {
   "cell_type": "code",
   "execution_count": 15,
   "id": "bc1bb72d",
   "metadata": {},
   "outputs": [],
   "source": [
    "news_df.to_csv(\"data.csv\", index=False)"
   ]
  },
  {
   "cell_type": "code",
   "execution_count": null,
   "id": "957f67c3",
   "metadata": {},
   "outputs": [],
   "source": []
  }
 ],
 "metadata": {
  "kernelspec": {
   "display_name": "PyTorch",
   "language": "python",
   "name": "pytorch"
  },
  "language_info": {
   "codemirror_mode": {
    "name": "ipython",
    "version": 3
   },
   "file_extension": ".py",
   "mimetype": "text/x-python",
   "name": "python",
   "nbconvert_exporter": "python",
   "pygments_lexer": "ipython3",
   "version": "3.7.10"
  }
 },
 "nbformat": 4,
 "nbformat_minor": 5
}
